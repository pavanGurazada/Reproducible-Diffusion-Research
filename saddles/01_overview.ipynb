{
 "cells": [
  {
   "cell_type": "markdown",
   "metadata": {},
   "source": [
    "In this series of scripts, we replicate the results from 'Riding the saddle: How cross-market communications can create a major slump in sales', Goldenberg, Libai and Muller (2002)"
   ]
  },
  {
   "cell_type": "markdown",
   "metadata": {},
   "source": [
    "**Assumptions**\n",
    "\n",
    "There are two major markets for innovative products. One is the early market (indexed by $i$) and the second is the major market (indexed by $m$). Both markets are relatively homogenous but have weak ties between the markets.\n",
    "\n",
    "Probability of adoption for an individual is:\n",
    "\n",
    "$P(t) = 1 - (1-p)(1-q)^{k(t)}$\n",
    "\n",
    "where, $p$ is the probability that the consumer adopts due to external marketing efforts and $q$ is the probability that the consumer adopts due to interaction with other consumers. $k(t)$ is the number of previous adopters with whom the consumer maintains interactions. \n",
    "\n",
    "We have two groups of consumers, so the realization of their probabilities are slightly different (Here, the paper is vague and doesnt specify how exactly the probabilities are realized):\n",
    "\n",
    "\n",
    "For early market consumers:\n",
    "\n",
    "$P_i(t) = 1 - (1-p_i)(1-q_{ii})^{k_i(t)}$\n",
    "\n",
    "For main market consumers:\n",
    "\n",
    "$P_m(t) = 1 - (1-p_m)(1-q_{mm})^{k_{mm}(t)}(1-q_{im})^{k_{im}(t)}$ \n"
   ]
  }
 ],
 "metadata": {
  "kernelspec": {
   "display_name": "Julia 1.0.2",
   "language": "julia",
   "name": "julia-1.0"
  },
  "language_info": {
   "file_extension": ".jl",
   "mimetype": "application/julia",
   "name": "julia",
   "version": "1.0.2"
  },
  "toc": {
   "base_numbering": 1,
   "nav_menu": {},
   "number_sections": true,
   "sideBar": true,
   "skip_h1_title": false,
   "title_cell": "Table of Contents",
   "title_sidebar": "Contents",
   "toc_cell": false,
   "toc_position": {},
   "toc_section_display": true,
   "toc_window_display": false
  }
 },
 "nbformat": 4,
 "nbformat_minor": 2
}
