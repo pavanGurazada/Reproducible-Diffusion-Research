{
 "cells": [
  {
   "cell_type": "code",
   "execution_count": 2,
   "metadata": {},
   "outputs": [
    {
     "name": "stderr",
     "output_type": "stream",
     "text": [
      "┌ Info: Precompiling JuliaDB [a93385a2-3734-596a-9a66-3cfbb77141e6]\n",
      "└ @ Base loading.jl:1192\n"
     ]
    }
   ],
   "source": [
    "using LightGraphs, DataFrames, Distributions, ProgressMeter, JuliaDB"
   ]
  },
  {
   "cell_type": "code",
   "execution_count": 3,
   "metadata": {},
   "outputs": [
    {
     "data": {
      "text/plain": [
       "Random.MersenneTwister(UInt32[0x01332bfa], Random.DSFMT.DSFMT_state(Int32[-1772545288, 1073534108, 1077066014, 1072915095, -2146195133, 1072843413, 301764553, 1073404181, 750472136, 1073628106  …  -1491411563, 1073194977, 716119449, 1072893711, 1632331784, 758890923, 1433693833, -13012230, 382, 0]), [0.0, 0.0, 0.0, 0.0, 0.0, 0.0, 0.0, 0.0, 0.0, 0.0  …  0.0, 0.0, 0.0, 0.0, 0.0, 0.0, 0.0, 0.0, 0.0, 0.0], UInt128[0x00000000000000000000000000000000, 0x00000000000000000000000000000000, 0x00000000000000000000000000000000, 0x00000000000000000000000000000000, 0x00000000000000000000000000000000, 0x00000000000000000000000000000000, 0x00000000000000000000000000000000, 0x00000000000000000000000000000000, 0x00000000000000000000000000000000, 0x00000000000000000000000000000000  …  0x00000000000000000000000000000000, 0x00000000000000000000000000000000, 0x00000000000000000000000000000000, 0x00000000000000000000000000000000, 0x00000000000000000000000000000000, 0x00000000000000000000000000000000, 0x00000000000000000000000000000000, 0x00000000000000000000000000000000, 0x00000000000000000000000000000000, 0x00000000000000000000000000000000], 1002, 0)"
      ]
     },
     "execution_count": 3,
     "metadata": {},
     "output_type": "execute_result"
    }
   ],
   "source": [
    "using Random: seed!\n",
    "seed!(20130810)"
   ]
  },
  {
   "cell_type": "markdown",
   "metadata": {},
   "source": [
    "> We assume that\n",
    "1. The network is sparse.\n",
    "2. Thresholds are deterministic (the probability of activation goes from\n",
    "zero to one as the threshold is crossed).\n",
    "3. Every tie has equal weight.\n",
    "4. Every node has equal influence.\n",
    "5. Every node has an identical threshold $\\tau$.\n",
    "6. Every node has about equal degree."
   ]
  },
  {
   "cell_type": "markdown",
   "metadata": {},
   "source": [
    "We began by replicating the small worlds experiments on the spread of simple contagions, using a two-dimensional lattice with Moore neighborhoods instead of the ring lattice used in earlier studies (Watts and Strogatz 1998; Watts 1999; Newman and Watts 1999). We then repeated the experiment with only one change — we increased activation thresholds above the theoretical minimum $(1/z)$ for propagation through social contact.\n",
    "\n",
    "We used two values of degree $(z = 8$ and $z = 48)$ so that we could independently manipulate $a$ and $z$. Network density was held constant as degree increased by increasing $N$ from $40,000$ with $z = 8$ to $240,000$ with $z = 48$. Thresholds ranged from $a = 1$ to the critical upper limit for propagation on a Moore lattice, which is $a_c = 3$ for $z = 8$ and $a_c = 19$ for $z = 48$. In each condition, the model was seeded with a sufficient number of activated nodes to allow a contagion to spread on a lattice network. With simple contagions, a single node was randomly chosen as the seed. With higher thresholds, a focal node was randomly selected and then that node plus its neighbors were activated. At each time step, an unactivated node was randomly selected (without replacement) and its state updated based on its threshold relative to the proportion of its activated neighbors."
   ]
  },
  {
   "cell_type": "code",
   "execution_count": null,
   "metadata": {
    "collapsed": true
   },
   "outputs": [],
   "source": []
  }
 ],
 "metadata": {
  "kernelspec": {
   "display_name": "Julia 1.0.2",
   "language": "julia",
   "name": "julia-1.0"
  },
  "language_info": {
   "file_extension": ".jl",
   "mimetype": "application/julia",
   "name": "julia",
   "version": "1.0.2"
  },
  "toc": {
   "base_numbering": 1,
   "nav_menu": {},
   "number_sections": true,
   "sideBar": true,
   "skip_h1_title": false,
   "title_cell": "Table of Contents",
   "title_sidebar": "Contents",
   "toc_cell": false,
   "toc_position": {},
   "toc_section_display": true,
   "toc_window_display": false
  }
 },
 "nbformat": 4,
 "nbformat_minor": 2
}
