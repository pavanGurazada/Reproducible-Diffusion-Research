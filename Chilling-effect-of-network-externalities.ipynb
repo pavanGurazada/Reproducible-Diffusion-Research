{
 "cells": [
  {
   "cell_type": "code",
   "execution_count": 2,
   "metadata": {},
   "outputs": [],
   "source": [
    "using LightGraphs, Distributions, DataFrames, ProgressMeter, RCall"
   ]
  },
  {
   "cell_type": "code",
   "execution_count": 3,
   "metadata": {},
   "outputs": [
    {
     "data": {
      "text/plain": [
       "MersenneTwister(UInt32[0x01332bfa], Base.dSFMT.DSFMT_state(Int32[-1772545288, 1073534108, 1077066014, 1072915095, -2146195133, 1072843413, 301764553, 1073404181, 750472136, 1073628106  …  -1491411563, 1073194977, 716119449, 1072893711, 1632331784, 758890923, 1433693833, -13012230, 382, 0]), [1.98619, 1.94589, 1.75428, 1.61862, 1.16592, 1.5365, 1.47187, 1.92902, 1.83274, 1.72863  …  1.67703, 1.52454, 1.16355, 1.10165, 1.20014, 1.30681, 1.41491, 1.39147, 1.69956, 1.56541], 382)"
      ]
     },
     "execution_count": 3,
     "metadata": {},
     "output_type": "execute_result"
    }
   ],
   "source": [
    "srand(20130810)"
   ]
  },
  {
   "cell_type": "markdown",
   "metadata": {},
   "source": [
    "*Note: This workbook replicates the results from \"The chilling effects of network externalities\" by Goldenberg, Libai and Muller (2007). This is a self-didactic attempt*\n",
    "\n",
    "> Two factors influence the transition of a non-adopter to an adopter:\n",
    "- External factors: Some probability $a$ exists such that in a given time period, an individual will be influenced by external influence mechanisms such as advertising, mass media, and other marketing efforts, to adopt the innovative product\n",
    "- Internal factors: Some probability $b$ exists such that during a given time period, an individual will be affected by an interaction (e.g., word of mouth) with exactly one other individual who has already adopted the product\n",
    "\n",
    "> Let the number of cumulative adopters at time $t$ in a market of size $N$ be $x(t)$ and the threshold of an individual $i$ be $h_i$. If $i$ is connected to $m_i(t)$ adopters belonging to her personal network, her probability of adoption is:\n",
    "$p_i(t) = 1 - (1 - a)(1 - b)^{m_i(t)}$ if $x(t)/N > h_i$ and 0 otherwise.\n",
    "\n",
    "> In order to compare growth processes with and without network effects, we chose to express our measure as the ratio of the NPV of the growth process with and without network effects. Thus, we compute the NPV for the non-externalities case and for the externalities case using a 10% discount rate per period, which is a reasonable yearly rate for many\n",
    "markets and fixed profit margins. \n",
    "\n",
    "> We assume that the threshold distribution follows a truncated normal distribution with mean $\\mu$ and standard deviation $\\sigma$.\n",
    "\n",
    "It follows from the above verbatim from the paper that the parameters are $(a, b, \\mu, \\sigma)$."
   ]
  },
  {
   "cell_type": "code",
   "execution_count": 4,
   "metadata": {
    "collapsed": true
   },
   "outputs": [],
   "source": [
    "mutable struct Network\n",
    "    G::LightGraphs.SimpleGraphs.SimpleGraph{Int}\n",
    "    node_status::BitVector\n",
    "    threshold::Vector{Float64}\n",
    "end"
   ]
  },
  {
   "cell_type": "code",
   "execution_count": 5,
   "metadata": {},
   "outputs": [
    {
     "data": {
      "text/plain": [
       "network_externalities_effect (generic function with 1 method)"
      ]
     },
     "execution_count": 5,
     "metadata": {},
     "output_type": "execute_result"
    }
   ],
   "source": [
    "function network_externalities_effect(N::Network, node::Int, a::Float64, b::Float64)\n",
    "    if sum(N.node_status)/nv(N.G) > N.threshold[node]\n",
    "        n_active_nbrs = sum(N.node_status[neighbors(N.G, node)]) \n",
    "        return 1 - (1 - a)*((1 - b)^n_active_nbrs)\n",
    "    else\n",
    "        return a\n",
    "    end\n",
    "end"
   ]
  },
  {
   "cell_type": "code",
   "execution_count": 6,
   "metadata": {},
   "outputs": [
    {
     "data": {
      "text/plain": [
       "evolve! (generic function with 1 method)"
      ]
     },
     "execution_count": 6,
     "metadata": {},
     "output_type": "execute_result"
    }
   ],
   "source": [
    "function evolve!(N::Network, a::Float64, b::Float64)\n",
    "    for node in shuffle(vertices(N.G))\n",
    "        if rand(Uniform()) < network_externalities_effect(N, node, a, b)\n",
    "            N.node_status[node] = true\n",
    "        end\n",
    "    end\n",
    "    \n",
    "    return nothing\n",
    "end"
   ]
  },
  {
   "cell_type": "code",
   "execution_count": 7,
   "metadata": {},
   "outputs": [
    {
     "data": {
      "text/plain": [
       "evolve! (generic function with 2 methods)"
      ]
     },
     "execution_count": 7,
     "metadata": {},
     "output_type": "execute_result"
    }
   ],
   "source": [
    "function evolve!(N::Network, a::Float64)\n",
    "    for node in shuffle(vertices(N.G))\n",
    "        if rand(Uniform()) < a\n",
    "            N.node_status[node] = true\n",
    "        end\n",
    "    end\n",
    "    \n",
    "    return nothing\n",
    "end"
   ]
  },
  {
   "cell_type": "code",
   "execution_count": 43,
   "metadata": {},
   "outputs": [
    {
     "data": {
      "text/plain": [
       "simulate (generic function with 1 method)"
      ]
     },
     "execution_count": 43,
     "metadata": {},
     "output_type": "execute_result"
    }
   ],
   "source": [
    "function simulate(n::Int, z::Int; T = 30, n_realizations = 10)\n",
    "    parameter_space = [(a, b, mu, sigma) for a in linspace(0.005, 0.05, 5),\n",
    "                                             b in linspace(0.05, 0.25, 5),\n",
    "                                             mu in linspace(0.01, 0.2, 5),\n",
    "                                             sigma in linspace(0.005, 0.025, 5)]\n",
    "    output = DataFrame(r = Int[], t = Int[], \n",
    "                       a = Float64[], b = Float64[], mu = Float64[], sigma = Float64[], \n",
    "                       n_engaged_externalities = Int[], n_engaged_no_externalities = Int[])\n",
    "    \n",
    "    @showprogress 1 \"Simulating...\" for (a, b, mu, sigma) in parameter_space\n",
    "        for r in 1:n_realizations\n",
    "            g = erdos_renyi(n, z/n)\n",
    "            threshold = rand(TruncatedNormal(mu, sigma, 0, Inf), nv(g))\n",
    "            N_externalities = Network(g, falses(nv(g)), threshold)\n",
    "            N_no_externalities = Network(g, falses(nv(g)), threshold)\n",
    "            \n",
    "            for t in 1:T\n",
    "                evolve!(N_externalities, a, b)\n",
    "               \n",
    "                evolve!(N_no_externalities, a)\n",
    "                \n",
    "                push!(output, [r, t, a, b, mu, sigma, sum(N_externalities.node_status), sum(N_no_externalities.node_status)])\n",
    "            end\n",
    "        end\n",
    "    end\n",
    "    \n",
    "    return output\n",
    "end"
   ]
  },
  {
   "cell_type": "code",
   "execution_count": 44,
   "metadata": {},
   "outputs": [
    {
     "name": "stderr",
     "output_type": "stream",
     "text": [
      "\u001b[32mSimulating...100%|██████████████████████████████████████| Time: 0:01:02\u001b[39m\n"
     ]
    },
    {
     "data": {
      "text/html": [
       "<table class=\"data-frame\"><thead><tr><th></th><th>r</th><th>t</th><th>a</th><th>b</th><th>mu</th><th>sigma</th><th>n_engaged_externalities</th><th>n_engaged_no_externalities</th></tr></thead><tbody><tr><th>1</th><td>1</td><td>1</td><td>0.005</td><td>0.05</td><td>0.01</td><td>0.005</td><td>1</td><td>4</td></tr><tr><th>2</th><td>1</td><td>2</td><td>0.005</td><td>0.05</td><td>0.01</td><td>0.005</td><td>3</td><td>7</td></tr><tr><th>3</th><td>1</td><td>3</td><td>0.005</td><td>0.05</td><td>0.01</td><td>0.005</td><td>10</td><td>11</td></tr><tr><th>4</th><td>1</td><td>4</td><td>0.005</td><td>0.05</td><td>0.01</td><td>0.005</td><td>22</td><td>15</td></tr><tr><th>5</th><td>1</td><td>5</td><td>0.005</td><td>0.05</td><td>0.01</td><td>0.005</td><td>31</td><td>18</td></tr><tr><th>6</th><td>1</td><td>6</td><td>0.005</td><td>0.05</td><td>0.01</td><td>0.005</td><td>44</td><td>19</td></tr><tr><th>7</th><td>1</td><td>7</td><td>0.005</td><td>0.05</td><td>0.01</td><td>0.005</td><td>62</td><td>21</td></tr><tr><th>8</th><td>1</td><td>8</td><td>0.005</td><td>0.05</td><td>0.01</td><td>0.005</td><td>85</td><td>26</td></tr><tr><th>9</th><td>1</td><td>9</td><td>0.005</td><td>0.05</td><td>0.01</td><td>0.005</td><td>108</td><td>28</td></tr><tr><th>10</th><td>1</td><td>10</td><td>0.005</td><td>0.05</td><td>0.01</td><td>0.005</td><td>149</td><td>31</td></tr><tr><th>11</th><td>1</td><td>11</td><td>0.005</td><td>0.05</td><td>0.01</td><td>0.005</td><td>195</td><td>35</td></tr><tr><th>12</th><td>1</td><td>12</td><td>0.005</td><td>0.05</td><td>0.01</td><td>0.005</td><td>252</td><td>37</td></tr><tr><th>13</th><td>1</td><td>13</td><td>0.005</td><td>0.05</td><td>0.01</td><td>0.005</td><td>311</td><td>41</td></tr><tr><th>14</th><td>1</td><td>14</td><td>0.005</td><td>0.05</td><td>0.01</td><td>0.005</td><td>364</td><td>42</td></tr><tr><th>15</th><td>1</td><td>15</td><td>0.005</td><td>0.05</td><td>0.01</td><td>0.005</td><td>411</td><td>43</td></tr><tr><th>16</th><td>1</td><td>16</td><td>0.005</td><td>0.05</td><td>0.01</td><td>0.005</td><td>454</td><td>48</td></tr><tr><th>17</th><td>1</td><td>17</td><td>0.005</td><td>0.05</td><td>0.01</td><td>0.005</td><td>492</td><td>50</td></tr><tr><th>18</th><td>1</td><td>18</td><td>0.005</td><td>0.05</td><td>0.01</td><td>0.005</td><td>523</td><td>58</td></tr><tr><th>19</th><td>1</td><td>19</td><td>0.005</td><td>0.05</td><td>0.01</td><td>0.005</td><td>547</td><td>62</td></tr><tr><th>20</th><td>1</td><td>20</td><td>0.005</td><td>0.05</td><td>0.01</td><td>0.005</td><td>566</td><td>64</td></tr><tr><th>21</th><td>1</td><td>21</td><td>0.005</td><td>0.05</td><td>0.01</td><td>0.005</td><td>578</td><td>67</td></tr><tr><th>22</th><td>1</td><td>22</td><td>0.005</td><td>0.05</td><td>0.01</td><td>0.005</td><td>587</td><td>71</td></tr><tr><th>23</th><td>1</td><td>23</td><td>0.005</td><td>0.05</td><td>0.01</td><td>0.005</td><td>592</td><td>72</td></tr><tr><th>24</th><td>1</td><td>24</td><td>0.005</td><td>0.05</td><td>0.01</td><td>0.005</td><td>601</td><td>72</td></tr><tr><th>25</th><td>1</td><td>25</td><td>0.005</td><td>0.05</td><td>0.01</td><td>0.005</td><td>604</td><td>74</td></tr><tr><th>26</th><td>1</td><td>26</td><td>0.005</td><td>0.05</td><td>0.01</td><td>0.005</td><td>609</td><td>75</td></tr><tr><th>27</th><td>1</td><td>27</td><td>0.005</td><td>0.05</td><td>0.01</td><td>0.005</td><td>611</td><td>77</td></tr><tr><th>28</th><td>1</td><td>28</td><td>0.005</td><td>0.05</td><td>0.01</td><td>0.005</td><td>614</td><td>79</td></tr><tr><th>29</th><td>1</td><td>29</td><td>0.005</td><td>0.05</td><td>0.01</td><td>0.005</td><td>615</td><td>84</td></tr><tr><th>30</th><td>1</td><td>30</td><td>0.005</td><td>0.05</td><td>0.01</td><td>0.005</td><td>616</td><td>86</td></tr><tr><th>&vellip;</th><td>&vellip;</td><td>&vellip;</td><td>&vellip;</td><td>&vellip;</td><td>&vellip;</td><td>&vellip;</td><td>&vellip;</td><td>&vellip;</td></tr></tbody></table>"
      ],
      "text/plain": [
       "187500×8 DataFrames.DataFrame\n",
       "│ Row    │ r  │ t  │ a     │ b    │ mu   │ sigma │ n_engaged_externalities │\n",
       "├────────┼────┼────┼───────┼──────┼──────┼───────┼─────────────────────────┤\n",
       "│ 1      │ 1  │ 1  │ 0.005 │ 0.05 │ 0.01 │ 0.005 │ 1                       │\n",
       "│ 2      │ 1  │ 2  │ 0.005 │ 0.05 │ 0.01 │ 0.005 │ 3                       │\n",
       "│ 3      │ 1  │ 3  │ 0.005 │ 0.05 │ 0.01 │ 0.005 │ 10                      │\n",
       "│ 4      │ 1  │ 4  │ 0.005 │ 0.05 │ 0.01 │ 0.005 │ 22                      │\n",
       "│ 5      │ 1  │ 5  │ 0.005 │ 0.05 │ 0.01 │ 0.005 │ 31                      │\n",
       "│ 6      │ 1  │ 6  │ 0.005 │ 0.05 │ 0.01 │ 0.005 │ 44                      │\n",
       "│ 7      │ 1  │ 7  │ 0.005 │ 0.05 │ 0.01 │ 0.005 │ 62                      │\n",
       "│ 8      │ 1  │ 8  │ 0.005 │ 0.05 │ 0.01 │ 0.005 │ 85                      │\n",
       "│ 9      │ 1  │ 9  │ 0.005 │ 0.05 │ 0.01 │ 0.005 │ 108                     │\n",
       "│ 10     │ 1  │ 10 │ 0.005 │ 0.05 │ 0.01 │ 0.005 │ 149                     │\n",
       "│ 11     │ 1  │ 11 │ 0.005 │ 0.05 │ 0.01 │ 0.005 │ 195                     │\n",
       "⋮\n",
       "│ 187489 │ 10 │ 19 │ 0.05  │ 0.25 │ 0.2  │ 0.025 │ 625                     │\n",
       "│ 187490 │ 10 │ 20 │ 0.05  │ 0.25 │ 0.2  │ 0.025 │ 625                     │\n",
       "│ 187491 │ 10 │ 21 │ 0.05  │ 0.25 │ 0.2  │ 0.025 │ 625                     │\n",
       "│ 187492 │ 10 │ 22 │ 0.05  │ 0.25 │ 0.2  │ 0.025 │ 625                     │\n",
       "│ 187493 │ 10 │ 23 │ 0.05  │ 0.25 │ 0.2  │ 0.025 │ 625                     │\n",
       "│ 187494 │ 10 │ 24 │ 0.05  │ 0.25 │ 0.2  │ 0.025 │ 625                     │\n",
       "│ 187495 │ 10 │ 25 │ 0.05  │ 0.25 │ 0.2  │ 0.025 │ 625                     │\n",
       "│ 187496 │ 10 │ 26 │ 0.05  │ 0.25 │ 0.2  │ 0.025 │ 625                     │\n",
       "│ 187497 │ 10 │ 27 │ 0.05  │ 0.25 │ 0.2  │ 0.025 │ 625                     │\n",
       "│ 187498 │ 10 │ 28 │ 0.05  │ 0.25 │ 0.2  │ 0.025 │ 625                     │\n",
       "│ 187499 │ 10 │ 29 │ 0.05  │ 0.25 │ 0.2  │ 0.025 │ 625                     │\n",
       "│ 187500 │ 10 │ 30 │ 0.05  │ 0.25 │ 0.2  │ 0.025 │ 625                     │\n",
       "\n",
       "│ Row    │ n_engaged_no_externalities │\n",
       "├────────┼────────────────────────────┤\n",
       "│ 1      │ 4                          │\n",
       "│ 2      │ 7                          │\n",
       "│ 3      │ 11                         │\n",
       "│ 4      │ 15                         │\n",
       "│ 5      │ 18                         │\n",
       "│ 6      │ 19                         │\n",
       "│ 7      │ 21                         │\n",
       "│ 8      │ 26                         │\n",
       "│ 9      │ 28                         │\n",
       "│ 10     │ 31                         │\n",
       "│ 11     │ 35                         │\n",
       "⋮\n",
       "│ 187489 │ 402                        │\n",
       "│ 187490 │ 414                        │\n",
       "│ 187491 │ 420                        │\n",
       "│ 187492 │ 430                        │\n",
       "│ 187493 │ 442                        │\n",
       "│ 187494 │ 454                        │\n",
       "│ 187495 │ 466                        │\n",
       "│ 187496 │ 472                        │\n",
       "│ 187497 │ 478                        │\n",
       "│ 187498 │ 485                        │\n",
       "│ 187499 │ 490                        │\n",
       "│ 187500 │ 499                        │"
      ]
     },
     "execution_count": 44,
     "metadata": {},
     "output_type": "execute_result"
    }
   ],
   "source": [
    "result = simulate(625, 8)\n",
    "@rput result"
   ]
  },
  {
   "cell_type": "code",
   "execution_count": 45,
   "metadata": {},
   "outputs": [
    {
     "data": {
      "text/plain": [
       "RCall.RObject{RCall.VecSxp}\n",
       "# A tibble: 18,750 x 7\n",
       "# Groups:   a, b, mu, sigma [?]\n",
       "         a      b     mu   sigma     t Avg_Engaged_Extern~ Avg_Engaged_No_Exte~\n",
       "     <dbl>  <dbl>  <dbl>   <dbl> <int>               <dbl>                <dbl>\n",
       " 1 0.00500 0.0500 0.0100 0.00500     1                4.60                 3.40\n",
       " 2 0.00500 0.0500 0.0100 0.00500     2                9.40                 5.80\n",
       " 3 0.00500 0.0500 0.0100 0.00500     3               16.5                  9.40\n",
       " 4 0.00500 0.0500 0.0100 0.00500     4               30.7                 12.7 \n",
       " 5 0.00500 0.0500 0.0100 0.00500     5               47.1                 15.9 \n",
       " 6 0.00500 0.0500 0.0100 0.00500     6               70.8                 18.6 \n",
       " 7 0.00500 0.0500 0.0100 0.00500     7              100                   21.2 \n",
       " 8 0.00500 0.0500 0.0100 0.00500     8              137                   24.6 \n",
       " 9 0.00500 0.0500 0.0100 0.00500     9              181                   27.5 \n",
       "10 0.00500 0.0500 0.0100 0.00500    10              234                   30.8 \n",
       "# ... with 18,740 more rows\n"
      ]
     },
     "execution_count": 45,
     "metadata": {},
     "output_type": "execute_result"
    }
   ],
   "source": [
    "R\"\"\"\n",
    "library(tidyverse)\n",
    "result_summ <- result %>% group_by(a, b, mu, sigma, t) %>% \n",
    "                          summarize(Avg_Engaged_Externalities = mean(n_engaged_externalities), \n",
    "                                    Avg_Engaged_No_Externalities = mean(n_engaged_no_externalities))\n",
    "\n",
    "\"\"\""
   ]
  },
  {
   "cell_type": "code",
   "execution_count": 46,
   "metadata": {},
   "outputs": [
    {
     "data": {
      "text/plain": [
       "RCall.RObject{RCall.VecSxp}\n",
       "# A tibble: 18,750 x 9\n",
       "# Groups:   a, b, mu, sigma [625]\n",
       "         a      b     mu   sigma     t Avg_Engaged_Extern~ Avg_Engaged_No_Exte~\n",
       "     <dbl>  <dbl>  <dbl>   <dbl> <int>               <dbl>                <dbl>\n",
       " 1 0.00500 0.0500 0.0100 0.00500     1                4.60                 3.40\n",
       " 2 0.00500 0.0500 0.0100 0.00500     2                9.40                 5.80\n",
       " 3 0.00500 0.0500 0.0100 0.00500     3               16.5                  9.40\n",
       " 4 0.00500 0.0500 0.0100 0.00500     4               30.7                 12.7 \n",
       " 5 0.00500 0.0500 0.0100 0.00500     5               47.1                 15.9 \n",
       " 6 0.00500 0.0500 0.0100 0.00500     6               70.8                 18.6 \n",
       " 7 0.00500 0.0500 0.0100 0.00500     7              100                   21.2 \n",
       " 8 0.00500 0.0500 0.0100 0.00500     8              137                   24.6 \n",
       " 9 0.00500 0.0500 0.0100 0.00500     9              181                   27.5 \n",
       "10 0.00500 0.0500 0.0100 0.00500    10              234                   30.8 \n",
       "# ... with 18,740 more rows, and 2 more variables:\n",
       "#   Cash_Flow_Externalities <dbl>, Cash_Flow_No_Externalities <dbl>\n"
      ]
     },
     "execution_count": 46,
     "metadata": {},
     "output_type": "execute_result"
    }
   ],
   "source": [
    "R\"\"\"\n",
    "Cash_Flow <- result_summ %>% group_by(a, b, mu, sigma) %>% \n",
    "                             mutate(Cash_Flow_Externalities = (Avg_Engaged_Externalities - lag(Avg_Engaged_Externalities))/(1.1^t),\n",
    "                                    Cash_Flow_No_Externalities = (Avg_Engaged_No_Externalities - lag(Avg_Engaged_No_Externalities))/(1.1^t)) \n",
    "\"\"\""
   ]
  },
  {
   "cell_type": "code",
   "execution_count": 48,
   "metadata": {},
   "outputs": [
    {
     "data": {
      "text/plain": [
       "RCall.RObject{RCall.VecSxp}\n",
       "# A tibble: 625 x 7\n",
       "# Groups:   a, b, mu [125]\n",
       "         a      b     mu   sigma NPV_Externalities NPV_No_Externalit~ NPV_Ratio\n",
       "     <dbl>  <dbl>  <dbl>   <dbl>             <dbl>              <dbl>     <dbl>\n",
       " 1 0.00500 0.0500 0.0100 0.00500               209               25.5      8.20\n",
       " 2 0.00500 0.0500 0.0100 0.0100                202               24.8      8.14\n",
       " 3 0.00500 0.0500 0.0100 0.0150                186               24.9      7.49\n",
       " 4 0.00500 0.0500 0.0100 0.0200                196               26.7      7.35\n",
       " 5 0.00500 0.0500 0.0100 0.0250                180               25.9      6.95\n",
       " 6 0.00500 0.0500 0.0575 0.00500               136               26.2      5.20\n",
       " 7 0.00500 0.0500 0.0575 0.0100                120               25.6      4.67\n",
       " 8 0.00500 0.0500 0.0575 0.0150                131               24.7      5.31\n",
       " 9 0.00500 0.0500 0.0575 0.0200                131               25.2      5.20\n",
       "10 0.00500 0.0500 0.0575 0.0250                133               24.1      5.55\n",
       "# ... with 615 more rows\n"
      ]
     },
     "execution_count": 48,
     "metadata": {},
     "output_type": "execute_result"
    }
   ],
   "source": [
    "R\"\"\"\n",
    "NPV <- Cash_Flow %>% group_by(a, b, mu, sigma) %>% \n",
    "                     summarize(NPV_Externalities = sum(Cash_Flow_Externalities, na.rm = TRUE),\n",
    "                               NPV_No_Externalities = sum(Cash_Flow_No_Externalities, na.rm = TRUE)) %>%\n",
    "                     mutate(NPV_Ratio = NPV_Externalities/NPV_No_Externalities)\n",
    "\n",
    "\"\"\""
   ]
  },
  {
   "cell_type": "code",
   "execution_count": 56,
   "metadata": {},
   "outputs": [
    {
     "data": {
      "text/plain": [
       "RCall.RObject{RCall.VecSxp}\n",
       "Linear Regression \n",
       "\n",
       "625 samples\n",
       "  4 predictor\n",
       "\n",
       "Pre-processing: centered (3), scaled (3) \n",
       "Resampling: Cross-Validated (10 fold, repeated 1 times) \n",
       "Summary of sample sizes: 563, 561, 563, 563, 563, 562, ... \n",
       "Resampling results:\n",
       "\n",
       "  RMSE     Rsquared   MAE     \n",
       "  1.78134  0.4643107  1.141438\n",
       "\n",
       "Tuning parameter 'intercept' was held constant at a value of TRUE\n"
      ]
     },
     "execution_count": 56,
     "metadata": {},
     "output_type": "execute_result"
    }
   ],
   "source": [
    "R\"\"\"\n",
    "library(caret)\n",
    "\n",
    "model1 <- train(NPV_Ratio ~ 0 + log(a) + log(b) + I(log(sigma/mu)), \n",
    "               method = \"lm\",\n",
    "               data = NPV,\n",
    "               preProcess = c(\"center\", \"scale\"),\n",
    "               trControl = trainControl(method = \"repeatedcv\"))\n",
    "\"\"\""
   ]
  },
  {
   "cell_type": "code",
   "execution_count": 62,
   "metadata": {},
   "outputs": [
    {
     "data": {
      "text/plain": [
       "RCall.RObject{RCall.VecSxp}\n",
       "\n",
       "Call:\n",
       "lm(formula = .outcome ~ ., data = dat)\n",
       "\n",
       "Residuals:\n",
       "    Min      1Q  Median      3Q     Max \n",
       "-4.7048 -0.7037  0.0146  0.6228  9.7472 \n",
       "\n",
       "Coefficients:\n",
       "                   Estimate Std. Error t value Pr(>|t|)    \n",
       "(Intercept)         3.30738    0.07204  45.908  < 2e-16 ***\n",
       "`log(a)`           -1.21038    0.07210 -16.787  < 2e-16 ***\n",
       "`log(b)`            0.46173    0.07210   6.404 2.99e-10 ***\n",
       "`I(log(sigma/mu))`  1.03794    0.07210  14.396  < 2e-16 ***\n",
       "---\n",
       "Signif. codes:  0 '***' 0.001 '**' 0.01 '*' 0.05 '.' 0.1 ' ' 1\n",
       "\n",
       "Residual standard error: 1.801 on 621 degrees of freedom\n",
       "Multiple R-squared:  0.4605,\tAdjusted R-squared:  0.4579 \n",
       "F-statistic: 176.7 on 3 and 621 DF,  p-value: < 2.2e-16\n",
       "\n"
      ]
     },
     "execution_count": 62,
     "metadata": {},
     "output_type": "execute_result"
    }
   ],
   "source": [
    "R\"\"\"\n",
    "summary(model)\n",
    "\"\"\""
   ]
  },
  {
   "cell_type": "code",
   "execution_count": 65,
   "metadata": {},
   "outputs": [
    {
     "data": {
      "text/plain": [
       "RCall.RObject{RCall.VecSxp}\n",
       "Random Forest \n",
       "\n",
       "625 samples\n",
       "  4 predictor\n",
       "\n",
       "No pre-processing\n",
       "Resampling: Cross-Validated (10 fold, repeated 5 times) \n",
       "Summary of sample sizes: 561, 563, 561, 565, 563, 563, ... \n",
       "Resampling results across tuning parameters:\n",
       "\n",
       "  mtry  RMSE       Rsquared   MAE      \n",
       "  2     0.3978363  0.9822575  0.2020591\n",
       "  3     0.2466893  0.9896299  0.1234395\n",
       "  4     0.2251829  0.9909139  0.1163380\n",
       "\n",
       "RMSE was used to select the optimal model using the smallest value.\n",
       "The final value used for the model was mtry = 4.\n"
      ]
     },
     "execution_count": 65,
     "metadata": {},
     "output_type": "execute_result"
    }
   ],
   "source": [
    "R\"\"\"\n",
    "\n",
    "model1 <- train(NPV_Ratio ~ a + b + mu + sigma,\n",
    "                data = NPV,\n",
    "                method = \"rf\",\n",
    "                trControl = trainControl(method = \"repeatedcv\", repeats = 5))\n",
    "\n",
    "\"\"\""
   ]
  }
 ],
 "metadata": {
  "kernelspec": {
   "display_name": "Julia 0.6.2",
   "language": "julia",
   "name": "julia-0.6"
  },
  "language_info": {
   "file_extension": ".jl",
   "mimetype": "application/julia",
   "name": "julia",
   "version": "0.6.2"
  }
 },
 "nbformat": 4,
 "nbformat_minor": 2
}
