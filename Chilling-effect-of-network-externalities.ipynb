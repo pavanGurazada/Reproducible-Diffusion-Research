{
 "cells": [
  {
   "cell_type": "code",
   "execution_count": 2,
   "metadata": {},
   "outputs": [],
   "source": [
    "using LightGraphs, Distributions, DataFrames, ProgressMeter, RCall"
   ]
  },
  {
   "cell_type": "code",
   "execution_count": 3,
   "metadata": {},
   "outputs": [
    {
     "data": {
      "text/plain": [
       "MersenneTwister(UInt32[0x01332bfa], Base.dSFMT.DSFMT_state(Int32[-1772545288, 1073534108, 1077066014, 1072915095, -2146195133, 1072843413, 301764553, 1073404181, 750472136, 1073628106  …  -1491411563, 1073194977, 716119449, 1072893711, 1632331784, 758890923, 1433693833, -13012230, 382, 0]), [1.98619, 1.94589, 1.75428, 1.61862, 1.16592, 1.5365, 1.47187, 1.92902, 1.83274, 1.72863  …  1.67703, 1.52454, 1.16355, 1.10165, 1.20014, 1.30681, 1.41491, 1.39147, 1.69956, 1.56541], 382)"
      ]
     },
     "execution_count": 3,
     "metadata": {},
     "output_type": "execute_result"
    }
   ],
   "source": [
    "srand(20130810)"
   ]
  },
  {
   "cell_type": "markdown",
   "metadata": {},
   "source": [
    "*Note: This workbook replicates the results from \"The chilling effects of network externalities\" by Goldenberg, Libai and Muller (2007). This is a self-didactic attempt*\n",
    "\n",
    "> Two factors influence the transition of a non-adopter to an adopter:\n",
    "- External factors: Some probability $a$ exists such that in a given time period, an individual will be influenced by external influence mechanisms such as advertising, mass media, and other marketing efforts, to adopt the innovative product\n",
    "- Internal factors: Some probability $b$ exists such that during a given time period, an individual will be affected by an interaction (e.g., word of mouth) with exactly one other individual who has already adopted the product\n",
    "\n",
    "> Let the number of cumulative adopters at time $t$ in a market of size $N$ be $x(t)$ and the threshold of an individual $i$ be $h_i$. If $i$ is connected to $m_i(t)$ adopters belonging to her personal network, her probability of adoption is:\n",
    "$p_i(t) = 1 - (1 - a)(1 - b)^{m_i(t)}$ if $x(t)/N > h_i$ and 0 otherwise.\n",
    "\n",
    "> In order to compare growth processes with and without network effects, we chose to express our measure as the ratio of the NPV of the growth process with and without network effects. Thus, we compute the NPV for the non-externalities case and for the externalities case using a 10% discount rate per period, which is a reasonable yearly rate for many\n",
    "markets and fixed profit margins. \n",
    "\n",
    "> We assume that the threshold distribution follows a truncated normal distribution with mean $\\mu$ and standard deviation $\\sigma$.\n",
    "\n",
    "It follows from the above verbatim from the paper that the parameters are $(a, b, \\mu, \\sigma)$."
   ]
  },
  {
   "cell_type": "code",
   "execution_count": 4,
   "metadata": {
    "collapsed": true
   },
   "outputs": [],
   "source": [
    "mutable struct Network\n",
    "    G::LightGraphs.SimpleGraphs.SimpleGraph{Int}\n",
    "    node_status::BitVector\n",
    "    threshold::Vector{Float64}\n",
    "end"
   ]
  },
  {
   "cell_type": "code",
   "execution_count": 5,
   "metadata": {},
   "outputs": [
    {
     "data": {
      "text/plain": [
       "network_externalities_effect (generic function with 1 method)"
      ]
     },
     "execution_count": 5,
     "metadata": {},
     "output_type": "execute_result"
    }
   ],
   "source": [
    "function network_externalities_effect(N::Network, node::Int, a::Float64, b::Float64)\n",
    "    if sum(N.node_status)/nv(N.G) > N.threshold[node]\n",
    "        n_active_nbrs = sum(N.node_status[neighbors(N.G, node)]) \n",
    "        return 1 - (1 - a)*((1 - b)^n_active_nbrs)\n",
    "    else\n",
    "        return a\n",
    "    end\n",
    "end"
   ]
  },
  {
   "cell_type": "code",
   "execution_count": 6,
   "metadata": {},
   "outputs": [
    {
     "data": {
      "text/plain": [
       "evolve! (generic function with 1 method)"
      ]
     },
     "execution_count": 6,
     "metadata": {},
     "output_type": "execute_result"
    }
   ],
   "source": [
    "function evolve!(N::Network, a::Float64, b::Float64)\n",
    "    for node in shuffle(vertices(N.G))\n",
    "        if rand(Uniform()) < network_externalities_effect(N, node, a, b)\n",
    "            N.node_status[node] = true\n",
    "        end\n",
    "    end\n",
    "    \n",
    "    return nothing\n",
    "end"
   ]
  },
  {
   "cell_type": "code",
   "execution_count": 7,
   "metadata": {},
   "outputs": [
    {
     "data": {
      "text/plain": [
       "evolve! (generic function with 2 methods)"
      ]
     },
     "execution_count": 7,
     "metadata": {},
     "output_type": "execute_result"
    }
   ],
   "source": [
    "function evolve!(N::Network, a::Float64)\n",
    "    for node in shuffle(vertices(N.G))\n",
    "        if rand(Uniform()) < a\n",
    "            N.node_status[node] = true\n",
    "        end\n",
    "    end\n",
    "    \n",
    "    return nothing\n",
    "end"
   ]
  },
  {
   "cell_type": "code",
   "execution_count": 8,
   "metadata": {},
   "outputs": [
    {
     "data": {
      "text/plain": [
       "simulate (generic function with 1 method)"
      ]
     },
     "execution_count": 8,
     "metadata": {},
     "output_type": "execute_result"
    }
   ],
   "source": [
    "function simulate(n::Int, z::Int; T = 30, n_realizations = 10)\n",
    "    parameter_space = [(a, b, mu, sigma) for a in linspace(0.005, 0.05, 5),\n",
    "                                             b in linspace(0.05, 0.25, 5),\n",
    "                                             mu in linspace(0.01, 0.2, 5),\n",
    "                                             sigma in linspace(0.005, 0.025)]\n",
    "    output = DataFrame(r = Int[], t = Int[], \n",
    "                       a = Float64[], b = Float64[], mu = Float64[], sigma = Float64[], \n",
    "                       n_engaged_externalities = Int[], n_engaged_no_externalities = Int[])\n",
    "    \n",
    "    @showprogress 1 \"Simulating...\" for (a, b, mu, sigma) in parameter_space\n",
    "        for r in 1:n_realizations\n",
    "            g = erdos_renyi(n, z/n)\n",
    "            threshold = rand(TruncatedNormal(mu, sigma, 0, Inf), nv(g))\n",
    "            N_externalities = Network(g, falses(nv(g)), threshold)\n",
    "            N_no_externalities = Network(g, falses(nv(g)), threshold)\n",
    "            \n",
    "            for t in 1:T\n",
    "                evolve!(N_externalities, a, b)\n",
    "               \n",
    "                evolve!(N_no_externalities, a)\n",
    "                \n",
    "                push!(output, [r, t, a, b, mu, sigma, sum(N_externalities.node_status), sum(N_no_externalities.node_status)])\n",
    "            end\n",
    "        end\n",
    "    end\n",
    "    \n",
    "    return output\n",
    "end"
   ]
  },
  {
   "cell_type": "code",
   "execution_count": null,
   "metadata": {},
   "outputs": [
    {
     "name": "stderr",
     "output_type": "stream",
     "text": [
      "\u001b[32mSimulating...  1%|                                      |  ETA: 0:10:34\u001b[39m"
     ]
    }
   ],
   "source": [
    "result = simulate(625, 8)\n",
    "@rput result"
   ]
  },
  {
   "cell_type": "code",
   "execution_count": null,
   "metadata": {},
   "outputs": [],
   "source": [
    "R\"\"\"\n",
    "library(tidyverse)\n",
    "result %>% group_by(a, b, mu, sigma, t) %>% summarize(mean(n_engaged_externalities), mean(n_engaged_no_externalities))\n",
    "\n",
    "\"\"\""
   ]
  }
 ],
 "metadata": {
  "kernelspec": {
   "display_name": "Julia 0.6.2",
   "language": "julia",
   "name": "julia-0.6"
  },
  "language_info": {
   "file_extension": ".jl",
   "mimetype": "application/julia",
   "name": "julia",
   "version": "0.6.2"
  }
 },
 "nbformat": 4,
 "nbformat_minor": 2
}
