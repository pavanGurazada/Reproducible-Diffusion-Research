{
 "cells": [
  {
   "cell_type": "code",
   "execution_count": 2,
   "metadata": {},
   "outputs": [],
   "source": [
    "using LightGraphs, Distributions, DataFrames, ProgressMeter, RCall"
   ]
  },
  {
   "cell_type": "code",
   "execution_count": 3,
   "metadata": {},
   "outputs": [
    {
     "data": {
      "text/plain": [
       "MersenneTwister(UInt32[0x01332bfa], Base.dSFMT.DSFMT_state(Int32[-1772545288, 1073534108, 1077066014, 1072915095, -2146195133, 1072843413, 301764553, 1073404181, 750472136, 1073628106  …  -1491411563, 1073194977, 716119449, 1072893711, 1632331784, 758890923, 1433693833, -13012230, 382, 0]), [1.98619, 1.94589, 1.75428, 1.61862, 1.16592, 1.5365, 1.47187, 1.92902, 1.83274, 1.72863  …  1.67703, 1.52454, 1.16355, 1.10165, 1.20014, 1.30681, 1.41491, 1.39147, 1.69956, 1.56541], 382)"
      ]
     },
     "execution_count": 3,
     "metadata": {},
     "output_type": "execute_result"
    }
   ],
   "source": [
    "srand(20130810)"
   ]
  },
  {
   "cell_type": "markdown",
   "metadata": {},
   "source": [
    "*Note: This workbook replicates the results from \"The chilling effects of network externalities\" by Goldenberg, Libai and Muller (2007). This is a self-didactic attempt*\n",
    "\n",
    "> Two factors influence the transition of a non-adopter to an adopter:\n",
    "- External factors: Some probability $a$ exists such that in a given time period, an individual will be influenced by external influence mechanisms such as advertising, mass media, and other marketing efforts, to adopt the innovative product\n",
    "- Internal factors: Some probability $b$ exists such that during a given time period, an individual will be affected by an interaction (e.g., word of mouth) with exactly one other individual who has already adopted the product\n",
    "\n",
    "> Let the number of cumulative adopters at time $t$ in a market of size $N$ be $x(t)$ and the threshold of an individual $i$ be $h_i$. If $i$ is connected to $m_i(t)$ adopters belonging to her personal network, her probability of adoption is:\n",
    "$p_i(t) = 1 - (1 - a)(1 - b)^{m_i(t)}$ if $x(t)/N > h_i$ and 0 otherwise.\n",
    "\n",
    "> In order to compare growth processes with and without network effects, we chose to express our measure as the ratio of the NPV of the growth process with and without network effects. Thus, we compute the NPV for the non-externalities case and for the externalities case using a 10% discount rate per period, which is a reasonable yearly rate for many\n",
    "markets and fixed profit margins. \n",
    "\n",
    "> We assume that the threshold distribution follows a truncated normal distribution with mean $\\mu$ and standard deviation $\\sigma$.\n",
    "\n",
    "It follows from the above verbatim from the paper that the parameters are $(a, b, \\mu, \\sigma)$."
   ]
  },
  {
   "cell_type": "code",
   "execution_count": 4,
   "metadata": {
    "collapsed": true
   },
   "outputs": [],
   "source": [
    "mutable struct Network\n",
    "    G::LightGraphs.SimpleGraphs.SimpleGraph{Int}\n",
    "    node_status::BitVector\n",
    "    threshold::Vector{Float64}\n",
    "end"
   ]
  },
  {
   "cell_type": "code",
   "execution_count": 5,
   "metadata": {},
   "outputs": [
    {
     "data": {
      "text/plain": [
       "network_externalities_effect (generic function with 1 method)"
      ]
     },
     "execution_count": 5,
     "metadata": {},
     "output_type": "execute_result"
    }
   ],
   "source": [
    "function network_externalities_effect(N::Network, node::Int, a::Float64, b::Float64)\n",
    "    if sum(N.node_status)/nv(N.G) > N.threshold[node]\n",
    "        n_active_nbrs = sum(N.node_status[neighbors(N.G, node)]) \n",
    "        return 1 - (1 - a)*((1 - b)^n_active_nbrs)\n",
    "    else\n",
    "        return a\n",
    "    end\n",
    "end"
   ]
  },
  {
   "cell_type": "code",
   "execution_count": 6,
   "metadata": {},
   "outputs": [
    {
     "data": {
      "text/plain": [
       "evolve! (generic function with 1 method)"
      ]
     },
     "execution_count": 6,
     "metadata": {},
     "output_type": "execute_result"
    }
   ],
   "source": [
    "function evolve!(N::Network, a::Float64, b::Float64)\n",
    "    for node in shuffle(vertices(N.G))\n",
    "        if rand(Uniform()) < network_externalities_effect(N, node, a, b)\n",
    "            N.node_status[node] = true\n",
    "        end\n",
    "    end\n",
    "    \n",
    "    return nothing\n",
    "end"
   ]
  },
  {
   "cell_type": "code",
   "execution_count": 7,
   "metadata": {},
   "outputs": [
    {
     "data": {
      "text/plain": [
       "evolve! (generic function with 2 methods)"
      ]
     },
     "execution_count": 7,
     "metadata": {},
     "output_type": "execute_result"
    }
   ],
   "source": [
    "function evolve!(N::Network, a::Float64)\n",
    "    for node in shuffle(vertices(N.G))\n",
    "        if rand(Uniform()) < a\n",
    "            N.node_status[node] = true\n",
    "        end\n",
    "    end\n",
    "    \n",
    "    return nothing\n",
    "end"
   ]
  },
  {
   "cell_type": "code",
   "execution_count": 8,
   "metadata": {},
   "outputs": [
    {
     "data": {
      "text/plain": [
       "simulate (generic function with 1 method)"
      ]
     },
     "execution_count": 8,
     "metadata": {},
     "output_type": "execute_result"
    }
   ],
   "source": [
    "function simulate(n::Int, z::Int; T = 30, n_realizations = 10)\n",
    "    parameter_space = [(a, b, mu, sigma) for a in linspace(0.005, 0.05, 5),\n",
    "                                             b in linspace(0.05, 0.25, 5),\n",
    "                                             mu in linspace(0.01, 0.2, 5),\n",
    "                                             sigma in linspace(0.005, 0.025)]\n",
    "    output = DataFrame(r = Int[], t = Int[], \n",
    "                       a = Float64[], b = Float64[], mu = Float64[], sigma = Float64[], \n",
    "                       n_engaged_externalities = Int[], n_engaged_no_externalities = Int[])\n",
    "    \n",
    "    @showprogress 1 \"Simulating...\" for (a, b, mu, sigma) in parameter_space\n",
    "        for r in 1:n_realizations\n",
    "            g = erdos_renyi(n, z/n)\n",
    "            threshold = rand(TruncatedNormal(mu, sigma, 0, Inf), nv(g))\n",
    "            N_externalities = Network(g, falses(nv(g)), threshold)\n",
    "            N_no_externalities = Network(g, falses(nv(g)), threshold)\n",
    "            \n",
    "            for t in 1:T\n",
    "                evolve!(N_externalities, a, b)\n",
    "               \n",
    "                evolve!(N_no_externalities, a)\n",
    "                \n",
    "                push!(output, [r, t, a, b, mu, sigma, sum(N_externalities.node_status), sum(N_no_externalities.node_status)])\n",
    "            end\n",
    "        end\n",
    "    end\n",
    "    \n",
    "    return output\n",
    "end"
   ]
  },
  {
   "cell_type": "code",
   "execution_count": 9,
   "metadata": {},
   "outputs": [
    {
     "name": "stderr",
     "output_type": "stream",
     "text": [
      "\u001b[32mSimulating...100%|██████████████████████████████████████| Time: 0:09:32\u001b[39m\n"
     ]
    },
    {
     "data": {
      "text/html": [
       "<table class=\"data-frame\"><thead><tr><th></th><th>r</th><th>t</th><th>a</th><th>b</th><th>mu</th><th>sigma</th><th>n_engaged_externalities</th><th>n_engaged_no_externalities</th></tr></thead><tbody><tr><th>1</th><td>1</td><td>1</td><td>0.005</td><td>0.05</td><td>0.01</td><td>0.005</td><td>3</td><td>6</td></tr><tr><th>2</th><td>1</td><td>2</td><td>0.005</td><td>0.05</td><td>0.01</td><td>0.005</td><td>6</td><td>8</td></tr><tr><th>3</th><td>1</td><td>3</td><td>0.005</td><td>0.05</td><td>0.01</td><td>0.005</td><td>11</td><td>8</td></tr><tr><th>4</th><td>1</td><td>4</td><td>0.005</td><td>0.05</td><td>0.01</td><td>0.005</td><td>23</td><td>10</td></tr><tr><th>5</th><td>1</td><td>5</td><td>0.005</td><td>0.05</td><td>0.01</td><td>0.005</td><td>34</td><td>13</td></tr><tr><th>6</th><td>1</td><td>6</td><td>0.005</td><td>0.05</td><td>0.01</td><td>0.005</td><td>64</td><td>14</td></tr><tr><th>7</th><td>1</td><td>7</td><td>0.005</td><td>0.05</td><td>0.01</td><td>0.005</td><td>85</td><td>17</td></tr><tr><th>8</th><td>1</td><td>8</td><td>0.005</td><td>0.05</td><td>0.01</td><td>0.005</td><td>121</td><td>19</td></tr><tr><th>9</th><td>1</td><td>9</td><td>0.005</td><td>0.05</td><td>0.01</td><td>0.005</td><td>157</td><td>20</td></tr><tr><th>10</th><td>1</td><td>10</td><td>0.005</td><td>0.05</td><td>0.01</td><td>0.005</td><td>206</td><td>22</td></tr><tr><th>11</th><td>1</td><td>11</td><td>0.005</td><td>0.05</td><td>0.01</td><td>0.005</td><td>255</td><td>24</td></tr><tr><th>12</th><td>1</td><td>12</td><td>0.005</td><td>0.05</td><td>0.01</td><td>0.005</td><td>320</td><td>29</td></tr><tr><th>13</th><td>1</td><td>13</td><td>0.005</td><td>0.05</td><td>0.01</td><td>0.005</td><td>363</td><td>33</td></tr><tr><th>14</th><td>1</td><td>14</td><td>0.005</td><td>0.05</td><td>0.01</td><td>0.005</td><td>410</td><td>37</td></tr><tr><th>15</th><td>1</td><td>15</td><td>0.005</td><td>0.05</td><td>0.01</td><td>0.005</td><td>450</td><td>37</td></tr><tr><th>16</th><td>1</td><td>16</td><td>0.005</td><td>0.05</td><td>0.01</td><td>0.005</td><td>483</td><td>41</td></tr><tr><th>17</th><td>1</td><td>17</td><td>0.005</td><td>0.05</td><td>0.01</td><td>0.005</td><td>517</td><td>42</td></tr><tr><th>18</th><td>1</td><td>18</td><td>0.005</td><td>0.05</td><td>0.01</td><td>0.005</td><td>536</td><td>47</td></tr><tr><th>19</th><td>1</td><td>19</td><td>0.005</td><td>0.05</td><td>0.01</td><td>0.005</td><td>558</td><td>53</td></tr><tr><th>20</th><td>1</td><td>20</td><td>0.005</td><td>0.05</td><td>0.01</td><td>0.005</td><td>574</td><td>54</td></tr><tr><th>21</th><td>1</td><td>21</td><td>0.005</td><td>0.05</td><td>0.01</td><td>0.005</td><td>586</td><td>55</td></tr><tr><th>22</th><td>1</td><td>22</td><td>0.005</td><td>0.05</td><td>0.01</td><td>0.005</td><td>594</td><td>59</td></tr><tr><th>23</th><td>1</td><td>23</td><td>0.005</td><td>0.05</td><td>0.01</td><td>0.005</td><td>596</td><td>60</td></tr><tr><th>24</th><td>1</td><td>24</td><td>0.005</td><td>0.05</td><td>0.01</td><td>0.005</td><td>605</td><td>61</td></tr><tr><th>25</th><td>1</td><td>25</td><td>0.005</td><td>0.05</td><td>0.01</td><td>0.005</td><td>611</td><td>64</td></tr><tr><th>26</th><td>1</td><td>26</td><td>0.005</td><td>0.05</td><td>0.01</td><td>0.005</td><td>613</td><td>64</td></tr><tr><th>27</th><td>1</td><td>27</td><td>0.005</td><td>0.05</td><td>0.01</td><td>0.005</td><td>615</td><td>65</td></tr><tr><th>28</th><td>1</td><td>28</td><td>0.005</td><td>0.05</td><td>0.01</td><td>0.005</td><td>618</td><td>67</td></tr><tr><th>29</th><td>1</td><td>29</td><td>0.005</td><td>0.05</td><td>0.01</td><td>0.005</td><td>619</td><td>68</td></tr><tr><th>30</th><td>1</td><td>30</td><td>0.005</td><td>0.05</td><td>0.01</td><td>0.005</td><td>621</td><td>73</td></tr><tr><th>&vellip;</th><td>&vellip;</td><td>&vellip;</td><td>&vellip;</td><td>&vellip;</td><td>&vellip;</td><td>&vellip;</td><td>&vellip;</td><td>&vellip;</td></tr></tbody></table>"
      ],
      "text/plain": [
       "1875000×8 DataFrames.DataFrame\n",
       "│ Row     │ r  │ t  │ a     │ b    │ mu   │ sigma │ n_engaged_externalities │\n",
       "├─────────┼────┼────┼───────┼──────┼──────┼───────┼─────────────────────────┤\n",
       "│ 1       │ 1  │ 1  │ 0.005 │ 0.05 │ 0.01 │ 0.005 │ 3                       │\n",
       "│ 2       │ 1  │ 2  │ 0.005 │ 0.05 │ 0.01 │ 0.005 │ 6                       │\n",
       "│ 3       │ 1  │ 3  │ 0.005 │ 0.05 │ 0.01 │ 0.005 │ 11                      │\n",
       "│ 4       │ 1  │ 4  │ 0.005 │ 0.05 │ 0.01 │ 0.005 │ 23                      │\n",
       "│ 5       │ 1  │ 5  │ 0.005 │ 0.05 │ 0.01 │ 0.005 │ 34                      │\n",
       "│ 6       │ 1  │ 6  │ 0.005 │ 0.05 │ 0.01 │ 0.005 │ 64                      │\n",
       "│ 7       │ 1  │ 7  │ 0.005 │ 0.05 │ 0.01 │ 0.005 │ 85                      │\n",
       "│ 8       │ 1  │ 8  │ 0.005 │ 0.05 │ 0.01 │ 0.005 │ 121                     │\n",
       "│ 9       │ 1  │ 9  │ 0.005 │ 0.05 │ 0.01 │ 0.005 │ 157                     │\n",
       "│ 10      │ 1  │ 10 │ 0.005 │ 0.05 │ 0.01 │ 0.005 │ 206                     │\n",
       "│ 11      │ 1  │ 11 │ 0.005 │ 0.05 │ 0.01 │ 0.005 │ 255                     │\n",
       "⋮\n",
       "│ 1874989 │ 10 │ 19 │ 0.05  │ 0.25 │ 0.2  │ 0.025 │ 624                     │\n",
       "│ 1874990 │ 10 │ 20 │ 0.05  │ 0.25 │ 0.2  │ 0.025 │ 624                     │\n",
       "│ 1874991 │ 10 │ 21 │ 0.05  │ 0.25 │ 0.2  │ 0.025 │ 624                     │\n",
       "│ 1874992 │ 10 │ 22 │ 0.05  │ 0.25 │ 0.2  │ 0.025 │ 624                     │\n",
       "│ 1874993 │ 10 │ 23 │ 0.05  │ 0.25 │ 0.2  │ 0.025 │ 625                     │\n",
       "│ 1874994 │ 10 │ 24 │ 0.05  │ 0.25 │ 0.2  │ 0.025 │ 625                     │\n",
       "│ 1874995 │ 10 │ 25 │ 0.05  │ 0.25 │ 0.2  │ 0.025 │ 625                     │\n",
       "│ 1874996 │ 10 │ 26 │ 0.05  │ 0.25 │ 0.2  │ 0.025 │ 625                     │\n",
       "│ 1874997 │ 10 │ 27 │ 0.05  │ 0.25 │ 0.2  │ 0.025 │ 625                     │\n",
       "│ 1874998 │ 10 │ 28 │ 0.05  │ 0.25 │ 0.2  │ 0.025 │ 625                     │\n",
       "│ 1874999 │ 10 │ 29 │ 0.05  │ 0.25 │ 0.2  │ 0.025 │ 625                     │\n",
       "│ 1875000 │ 10 │ 30 │ 0.05  │ 0.25 │ 0.2  │ 0.025 │ 625                     │\n",
       "\n",
       "│ Row     │ n_engaged_no_externalities │\n",
       "├─────────┼────────────────────────────┤\n",
       "│ 1       │ 6                          │\n",
       "│ 2       │ 8                          │\n",
       "│ 3       │ 8                          │\n",
       "│ 4       │ 10                         │\n",
       "│ 5       │ 13                         │\n",
       "│ 6       │ 14                         │\n",
       "│ 7       │ 17                         │\n",
       "│ 8       │ 19                         │\n",
       "│ 9       │ 20                         │\n",
       "│ 10      │ 22                         │\n",
       "│ 11      │ 24                         │\n",
       "⋮\n",
       "│ 1874989 │ 389                        │\n",
       "│ 1874990 │ 408                        │\n",
       "│ 1874991 │ 421                        │\n",
       "│ 1874992 │ 433                        │\n",
       "│ 1874993 │ 446                        │\n",
       "│ 1874994 │ 456                        │\n",
       "│ 1874995 │ 467                        │\n",
       "│ 1874996 │ 483                        │\n",
       "│ 1874997 │ 492                        │\n",
       "│ 1874998 │ 498                        │\n",
       "│ 1874999 │ 510                        │\n",
       "│ 1875000 │ 512                        │"
      ]
     },
     "execution_count": 9,
     "metadata": {},
     "output_type": "execute_result"
    }
   ],
   "source": [
    "result = simulate(625, 8)\n",
    "@rput result"
   ]
  },
  {
   "cell_type": "code",
   "execution_count": 13,
   "metadata": {},
   "outputs": [
    {
     "data": {
      "text/plain": [
       "RCall.RObject{RCall.VecSxp}\n",
       "# A tibble: 187,500 x 7\n",
       "# Groups:   a, b, mu, sigma [?]\n",
       "         a      b     mu   sigma     t Avg_Engaged_Extern~ Avg_Engaged_No_Exte~\n",
       "     <dbl>  <dbl>  <dbl>   <dbl> <int>               <dbl>                <dbl>\n",
       " 1 0.00500 0.0500 0.0100 0.00500     1                2.20                 3.30\n",
       " 2 0.00500 0.0500 0.0100 0.00500     2                5.40                 6.10\n",
       " 3 0.00500 0.0500 0.0100 0.00500     3               11.2                  8.60\n",
       " 4 0.00500 0.0500 0.0100 0.00500     4               19.0                 12.6 \n",
       " 5 0.00500 0.0500 0.0100 0.00500     5               28.7                 14.8 \n",
       " 6 0.00500 0.0500 0.0100 0.00500     6               45.6                 16.7 \n",
       " 7 0.00500 0.0500 0.0100 0.00500     7               62.4                 19.0 \n",
       " 8 0.00500 0.0500 0.0100 0.00500     8               87.4                 22.4 \n",
       " 9 0.00500 0.0500 0.0100 0.00500     9              118                   25.5 \n",
       "10 0.00500 0.0500 0.0100 0.00500    10              156                   28.2 \n",
       "# ... with 187,490 more rows\n"
      ]
     },
     "execution_count": 13,
     "metadata": {},
     "output_type": "execute_result"
    }
   ],
   "source": [
    "R\"\"\"\n",
    "library(tidyverse)\n",
    "result_summ <- result %>% group_by(a, b, mu, sigma, t) %>% \n",
    "                          summarize(Avg_Engaged_Externalities = mean(n_engaged_externalities), \n",
    "                                    Avg_Engaged_No_Externalities = mean(n_engaged_no_externalities))\n",
    "\n",
    "\"\"\""
   ]
  },
  {
   "cell_type": "code",
   "execution_count": 21,
   "metadata": {},
   "outputs": [
    {
     "data": {
      "image/png": "[encoded data removed]"
     },
     "metadata": {},
     "output_type": "display_data"
    },
    {
     "data": {
      "text/plain": [
       "RCall.RObject{RCall.VecSxp}\n"
      ]
     },
     "execution_count": 21,
     "metadata": {},
     "output_type": "execute_result"
    }
   ],
   "source": [
    "R\"\"\"\n",
    "ggplot(data = result_summ, aes(x = t), group = c(a, b, mu, sigma)) +\n",
    "    geom_point(aes(y = Avg_Engaged_Externalities)) +\n",
    "    theme_bw()\n",
    "\n",
    "\"\"\""
   ]
  },
  {
   "cell_type": "code",
   "execution_count": 22,
   "metadata": {},
   "outputs": [
    {
     "data": {
      "image/png": "[encoded data removed]"
     },
     "metadata": {},
     "output_type": "display_data"
    },
    {
     "data": {
      "text/plain": [
       "RCall.RObject{RCall.VecSxp}\n"
      ]
     },
     "execution_count": 22,
     "metadata": {},
     "output_type": "execute_result"
    }
   ],
   "source": [
    "R\"\"\"\n",
    "ggplot(data = result_summ, aes(x = t), group = c(a, b, mu, sigma)) +\n",
    "    geom_point(aes(y = Avg_Engaged_No_Externalities)) +\n",
    "    theme_bw()\n",
    "\n",
    "\"\"\""
   ]
  },
  {
   "cell_type": "code",
   "execution_count": null,
   "metadata": {
    "collapsed": true
   },
   "outputs": [],
   "source": []
  }
 ],
 "metadata": {
  "kernelspec": {
   "display_name": "Julia 0.6.2",
   "language": "julia",
   "name": "julia-0.6"
  },
  "language_info": {
   "file_extension": ".jl",
   "mimetype": "application/julia",
   "name": "julia",
   "version": "0.6.2"
  }
 },
 "nbformat": 4,
 "nbformat_minor": 2
}
