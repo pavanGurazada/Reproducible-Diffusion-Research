{
 "cells": [
  {
   "cell_type": "code",
   "execution_count": null,
   "metadata": {},
   "outputs": [],
   "source": [
    "using LightGraphs, Distributions, DataFrames, ProgressMeter, RCall"
   ]
  },
  {
   "cell_type": "code",
   "execution_count": null,
   "metadata": {},
   "outputs": [],
   "source": [
    "srand(20130810)"
   ]
  },
  {
   "cell_type": "markdown",
   "metadata": {},
   "source": [
    "The decision to invest in an innovation is based on its perceived usefulness (*utility*). If the utility exceeds the barrier to adoption (measured by a threshold), the individual adopts the innovation.\n",
    "\n",
    "The utility $u_i$ for the individual $i$ is a combination of personal benefit($p_i$), direct influence from an individuals peer group and influence from society in general. Hence,\n",
    "\n",
    "$$\n",
    "u_i(t) = \\alpha_ip_i + \\beta_is_i(t) + \\gamma_im(t)\n",
    "$$"
   ]
  },
  {
   "cell_type": "markdown",
   "metadata": {},
   "source": [
    "In this equation, $s_i$ measures the impact of adoption from the peer group of an individual and $m$ measures the mainstream norm (average adoption among the entire network). Since each individual can attach differing weights to each of these three parameters, i.e., personal benefit, peer group influence and mainstream norm, we can vary the weights $\\alpha_i, \\beta_i, \\gamma_i$ such that $\\alpha_i + \\beta_i + \\gamma_i = 1$."
   ]
  },
  {
   "cell_type": "markdown",
   "metadata": {},
   "source": [
    "The problem description is as follows.\n",
    "\n",
    "> Given a particular network, initial set of adopters and parameter\n",
    "values $(\\alpha, \\beta, \\gamma, p, \\theta)$, we ask whether or not the innovation succeeds, that is, do most individuals\n",
    "adopt the innovation. In each case, 5% of\n",
    "the nodes are chosen as seed nodes at random and are set to 1, with the rest initialised at 0. The detailed structure of\n",
    "the network is randomised at each set of parameter values. In order to look at the influence of\n",
    "the parameters on the expected uptake, this calculation is repeated 100 times over a range of parameter\n",
    "values and plotted in the $\\beta$, $\\gamma$ parameter space, with $0 \\leq \\beta \\leq 1$, $0 \\leq \\gamma \\leq 1$ and $\\alpha = 1 - \\beta - \\gamma$. Our dependent variable is the average number of individuals adopted at the end of a predetermined set of time steps.\n"
   ]
  },
  {
   "cell_type": "code",
   "execution_count": null,
   "metadata": {
    "collapsed": true
   },
   "outputs": [],
   "source": [
    "mutable struct Network\n",
    "    G::LightGraphs.SimpleGraphs.SimpleGraph{Int}\n",
    "    node_status::BitVector\n",
    "end"
   ]
  },
  {
   "cell_type": "code",
   "execution_count": null,
   "metadata": {},
   "outputs": [],
   "source": [
    "function peer_influence(N::Network, node::Int)\n",
    "    return sum([N.node_status[nbr] for nbr in neighbors(N.G, node)])/length(neighbors(N.G, node))\n",
    "end"
   ]
  },
  {
   "cell_type": "code",
   "execution_count": null,
   "metadata": {},
   "outputs": [],
   "source": [
    "function mainstream_norm(N::Network)\n",
    "    return sum(N.node_status)/nv(N.G)\n",
    "end"
   ]
  },
  {
   "cell_type": "code",
   "execution_count": null,
   "metadata": {},
   "outputs": [],
   "source": [
    "function evolve!(N::Network, beta::Float64, gamma::Float64; p = 0.5, theta = 0.25)\n",
    "    for node in shuffle(vertices(N.G))\n",
    "        if N.node_status[node] == false\n",
    "            s, m = peer_influence(N, node), mainstream_norm(N)\n",
    "            if (beta * s + gamma * m + (1 - beta - gamma) * p) > theta\n",
    "                N.node_status[node] = true\n",
    "            end\n",
    "        end\n",
    "    end\n",
    "end"
   ]
  },
  {
   "cell_type": "markdown",
   "metadata": {},
   "source": [
    "## Simulation on Erdos-Renyi random graphs"
   ]
  },
  {
   "cell_type": "code",
   "execution_count": null,
   "metadata": {},
   "outputs": [],
   "source": [
    "function simulate_er(n::Int, z::Int; T = 35, n_realizations = 100)\n",
    "    parameter_space = [(beta, gamma) for beta in linspace(0, 1, 10),\n",
    "                                         gamma in linspace(0, 1, 10)]\n",
    "    \n",
    "    output = DataFrame(r = Int[], beta = Float64[], gamma = Float64[], avg_engaged = Float64[])\n",
    "    \n",
    "    @showprogress 1 \"Simulating...\" for (beta, gamma) in parameter_space\n",
    "        for r in 1:n_realizations\n",
    "            g = erdos_renyi(500, 6)\n",
    "            ns = falses(nv(g))\n",
    "            N = Network(g, ns)\n",
    "\n",
    "            for t in 1:T\n",
    "                evolve!(N, beta, gamma)\n",
    "            end\n",
    "            avg_frac_engaged = sum(N.node_status)/nv(N.G)\n",
    "\n",
    "            push!(output, [r, beta, gamma, avg_frac_engaged])\n",
    "        end\n",
    "    end\n",
    "    \n",
    "    return output\n",
    "end "
   ]
  },
  {
   "cell_type": "code",
   "execution_count": null,
   "metadata": {},
   "outputs": [],
   "source": [
    "results = simulate_er(500, 6)"
   ]
  },
  {
   "cell_type": "code",
   "execution_count": null,
   "metadata": {},
   "outputs": [],
   "source": [
    "describe(results_ergraph)"
   ]
  },
  {
   "cell_type": "code",
   "execution_count": null,
   "metadata": {
    "collapsed": true
   },
   "outputs": [],
   "source": []
  }
 ],
 "metadata": {
  "kernelspec": {
   "display_name": "Julia 0.6.2",
   "language": "julia",
   "name": "julia-0.6"
  },
  "language_info": {
   "file_extension": ".jl",
   "mimetype": "application/julia",
   "name": "julia",
   "version": "0.6.2"
  }
 },
 "nbformat": 4,
 "nbformat_minor": 2
}
