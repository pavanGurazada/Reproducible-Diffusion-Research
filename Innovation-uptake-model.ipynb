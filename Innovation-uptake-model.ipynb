{
 "cells": [
  {
   "cell_type": "code",
   "execution_count": 2,
   "metadata": {},
   "outputs": [],
   "source": [
    "using LightGraphs, Distributions, DataFrames, ProgressMeter, RCall"
   ]
  },
  {
   "cell_type": "code",
   "execution_count": 3,
   "metadata": {},
   "outputs": [
    {
     "data": {
      "text/plain": [
       "MersenneTwister(UInt32[0x01332bfa], Base.dSFMT.DSFMT_state(Int32[-1772545288, 1073534108, 1077066014, 1072915095, -2146195133, 1072843413, 301764553, 1073404181, 750472136, 1073628106  …  -1491411563, 1073194977, 716119449, 1072893711, 1632331784, 758890923, 1433693833, -13012230, 382, 0]), [1.00784, 1.72551, 1.53682, 1.64715, 1.48015, 1.76568, 1.50925, 1.75842, 1.99756, 1.3348  …  1.56334, 1.69415, 1.7659, 1.40375, 1.59055, 1.12554, 1.6931, 1.12657, 1.73362, 1.92055], 382)"
      ]
     },
     "execution_count": 3,
     "metadata": {},
     "output_type": "execute_result"
    }
   ],
   "source": [
    "srand(20130810)"
   ]
  },
  {
   "cell_type": "markdown",
   "metadata": {},
   "source": [
    "The decision to invest in an innovation is based on its perceived usefulness (*utility*). If the utility exceeds the barrier to adoption (measured by a threshold), the individual adopts the innovation.\n",
    "\n",
    "The utility $u_i$ for the individual $i$ is a combination of personal benefit ($p_i$), direct influence from an individuals peer group and influence from society in general. Hence,\n",
    "\n",
    "$$\n",
    "u_i(t) = \\alpha_ip_i + \\beta_is_i(t) + \\gamma_im(t)\n",
    "$$"
   ]
  },
  {
   "cell_type": "markdown",
   "metadata": {},
   "source": [
    "In this equation, $s_i$ measures the impact of adoption from the peer group of an individual and $m$ measures the mainstream norm (average adoption among the entire network). Since each individual can attach differing weights to each of these three parameters, i.e., personal benefit, peer group influence and mainstream norm, we can vary the weights $\\alpha_i, \\beta_i, \\gamma_i$ such that $\\alpha_i + \\beta_i + \\gamma_i = 1$."
   ]
  },
  {
   "cell_type": "markdown",
   "metadata": {},
   "source": [
    "The problem description is as follows.\n",
    "\n",
    "> Given a particular network, initial set of adopters and parameter\n",
    "values $(\\alpha, \\beta, \\gamma, p, \\theta)$, we ask whether or not the innovation succeeds, that is, do most individuals\n",
    "adopt the innovation. In each case, 5% of\n",
    "the nodes are chosen as seed nodes at random and are set to 1, with the rest initialised at 0. The detailed structure of\n",
    "the network is randomised at each set of parameter values. In order to look at the influence of\n",
    "the parameters on the expected uptake, this calculation is repeated 100 times over a range of parameter\n",
    "values and plotted in the $\\beta$, $\\gamma$ parameter space, with $0 \\leq \\beta \\leq 1$, $0 \\leq \\gamma \\leq 1$ and $\\alpha = 1 - \\beta - \\gamma$. Our dependent variable is the average number of individuals adopted at the end of a predetermined set of time steps.\n"
   ]
  },
  {
   "cell_type": "code",
   "execution_count": 4,
   "metadata": {
    "collapsed": true
   },
   "outputs": [],
   "source": [
    "mutable struct Network\n",
    "    G::LightGraphs.SimpleGraphs.SimpleGraph{Int}\n",
    "    node_status::BitVector\n",
    "end"
   ]
  },
  {
   "cell_type": "code",
   "execution_count": 11,
   "metadata": {},
   "outputs": [
    {
     "data": {
      "text/plain": [
       "seed! (generic function with 1 method)"
      ]
     },
     "execution_count": 11,
     "metadata": {},
     "output_type": "execute_result"
    }
   ],
   "source": [
    "function seed!(N::Network)\n",
    "    seed_set = sample(vertices(N.G), floor(Int, 0.05 * nv(N.G)))\n",
    "    N.node_status[seed_set] = true\n",
    "    \n",
    "    return nothing\n",
    "end"
   ]
  },
  {
   "cell_type": "code",
   "execution_count": 6,
   "metadata": {},
   "outputs": [
    {
     "data": {
      "text/plain": [
       "peer_influence (generic function with 1 method)"
      ]
     },
     "execution_count": 6,
     "metadata": {},
     "output_type": "execute_result"
    }
   ],
   "source": [
    "function peer_influence(N::Network, node::Int)\n",
    "    return sum([N.node_status[nbr] for nbr in neighbors(N.G, node)])/length(neighbors(N.G, node))\n",
    "end"
   ]
  },
  {
   "cell_type": "code",
   "execution_count": 7,
   "metadata": {},
   "outputs": [
    {
     "data": {
      "text/plain": [
       "mainstream_norm (generic function with 1 method)"
      ]
     },
     "execution_count": 7,
     "metadata": {},
     "output_type": "execute_result"
    }
   ],
   "source": [
    "function mainstream_norm(N::Network)\n",
    "    return sum(N.node_status)/nv(N.G)\n",
    "end"
   ]
  },
  {
   "cell_type": "code",
   "execution_count": 8,
   "metadata": {},
   "outputs": [
    {
     "data": {
      "text/plain": [
       "evolve! (generic function with 1 method)"
      ]
     },
     "execution_count": 8,
     "metadata": {},
     "output_type": "execute_result"
    }
   ],
   "source": [
    "function evolve!(N::Network, beta::Float64, gamma::Float64; p = 0.5, theta = 0.25)\n",
    "    for node in shuffle(vertices(N.G))\n",
    "        if N.node_status[node] == false\n",
    "            s, m = peer_influence(N, node), mainstream_norm(N)\n",
    "            if (beta * s + gamma * m + (1 - beta - gamma) * p) > theta\n",
    "                N.node_status[node] = true\n",
    "            end\n",
    "        end\n",
    "    end\n",
    "    \n",
    "    return nothing\n",
    "end"
   ]
  },
  {
   "cell_type": "markdown",
   "metadata": {},
   "source": [
    "## Simulation on Erdos-Renyi random graphs"
   ]
  },
  {
   "cell_type": "code",
   "execution_count": 22,
   "metadata": {},
   "outputs": [
    {
     "data": {
      "text/plain": [
       "simulate_er (generic function with 2 methods)"
      ]
     },
     "execution_count": 22,
     "metadata": {},
     "output_type": "execute_result"
    }
   ],
   "source": [
    "function simulate_er(n::Int, p::Float64; T = 35, n_realizations = 100)\n",
    "    parameter_space = [(beta, gamma) for beta in linspace(0, 1, 10),\n",
    "                                         gamma in linspace(0, 1, 10)]\n",
    "    \n",
    "    output = DataFrame(r = Int[], avg_degree = Float64[], beta = Float64[], gamma = Float64[], avg_engaged = Float64[])\n",
    "    \n",
    "    @showprogress 1 \"Simulating...\" for (beta, gamma) in parameter_space\n",
    "        for r in 1:n_realizations\n",
    "            g = erdos_renyi(n, p)\n",
    "            ns = falses(nv(g))\n",
    "            N = Network(g, ns)\n",
    "            \n",
    "            seed!(N)\n",
    "\n",
    "            for t in 1:T\n",
    "                evolve!(N, beta, gamma)\n",
    "            end\n",
    "            avg_frac_engaged = sum(N.node_status)/nv(N.G)\n",
    "\n",
    "            push!(output, [r, mean(degree(g)), beta, gamma, avg_frac_engaged])\n",
    "        end\n",
    "    end\n",
    "    \n",
    "    return output\n",
    "end "
   ]
  },
  {
   "cell_type": "code",
   "execution_count": 23,
   "metadata": {},
   "outputs": [
    {
     "name": "stderr",
     "output_type": "stream",
     "text": [
      "\u001b[32mSimulating...100%|██████████████████████████████████████| Time: 0:00:25\u001b[39m\n"
     ]
    },
    {
     "data": {
      "text/html": [
       "<table class=\"data-frame\"><thead><tr><th></th><th>r</th><th>avg_degree</th><th>beta</th><th>gamma</th><th>avg_engaged</th></tr></thead><tbody><tr><th>1</th><td>1</td><td>5.064</td><td>0.0</td><td>0.0</td><td>0.994</td></tr><tr><th>2</th><td>2</td><td>4.876</td><td>0.0</td><td>0.0</td><td>0.994</td></tr><tr><th>3</th><td>3</td><td>5.028</td><td>0.0</td><td>0.0</td><td>0.994</td></tr><tr><th>4</th><td>4</td><td>4.988</td><td>0.0</td><td>0.0</td><td>0.99</td></tr><tr><th>5</th><td>5</td><td>4.82</td><td>0.0</td><td>0.0</td><td>0.994</td></tr><tr><th>6</th><td>6</td><td>4.872</td><td>0.0</td><td>0.0</td><td>0.998</td></tr><tr><th>7</th><td>7</td><td>5.164</td><td>0.0</td><td>0.0</td><td>0.992</td></tr><tr><th>8</th><td>8</td><td>5.192</td><td>0.0</td><td>0.0</td><td>0.998</td></tr><tr><th>9</th><td>9</td><td>5.152</td><td>0.0</td><td>0.0</td><td>0.994</td></tr><tr><th>10</th><td>10</td><td>5.104</td><td>0.0</td><td>0.0</td><td>0.996</td></tr><tr><th>11</th><td>11</td><td>5.18</td><td>0.0</td><td>0.0</td><td>0.996</td></tr><tr><th>12</th><td>12</td><td>4.908</td><td>0.0</td><td>0.0</td><td>0.99</td></tr><tr><th>13</th><td>13</td><td>5.024</td><td>0.0</td><td>0.0</td><td>0.992</td></tr><tr><th>14</th><td>14</td><td>4.864</td><td>0.0</td><td>0.0</td><td>0.996</td></tr><tr><th>15</th><td>15</td><td>5.16</td><td>0.0</td><td>0.0</td><td>0.986</td></tr><tr><th>16</th><td>16</td><td>5.18</td><td>0.0</td><td>0.0</td><td>0.996</td></tr><tr><th>17</th><td>17</td><td>4.984</td><td>0.0</td><td>0.0</td><td>0.992</td></tr><tr><th>18</th><td>18</td><td>5.108</td><td>0.0</td><td>0.0</td><td>0.994</td></tr><tr><th>19</th><td>19</td><td>5.168</td><td>0.0</td><td>0.0</td><td>0.992</td></tr><tr><th>20</th><td>20</td><td>4.86</td><td>0.0</td><td>0.0</td><td>0.99</td></tr><tr><th>21</th><td>21</td><td>4.772</td><td>0.0</td><td>0.0</td><td>0.992</td></tr><tr><th>22</th><td>22</td><td>5.048</td><td>0.0</td><td>0.0</td><td>0.99</td></tr><tr><th>23</th><td>23</td><td>4.936</td><td>0.0</td><td>0.0</td><td>0.986</td></tr><tr><th>24</th><td>24</td><td>5.044</td><td>0.0</td><td>0.0</td><td>0.99</td></tr><tr><th>25</th><td>25</td><td>5.056</td><td>0.0</td><td>0.0</td><td>0.988</td></tr><tr><th>26</th><td>26</td><td>4.976</td><td>0.0</td><td>0.0</td><td>1.0</td></tr><tr><th>27</th><td>27</td><td>5.056</td><td>0.0</td><td>0.0</td><td>0.998</td></tr><tr><th>28</th><td>28</td><td>5.028</td><td>0.0</td><td>0.0</td><td>1.0</td></tr><tr><th>29</th><td>29</td><td>4.92</td><td>0.0</td><td>0.0</td><td>0.99</td></tr><tr><th>30</th><td>30</td><td>4.908</td><td>0.0</td><td>0.0</td><td>0.994</td></tr><tr><th>&vellip;</th><td>&vellip;</td><td>&vellip;</td><td>&vellip;</td><td>&vellip;</td><td>&vellip;</td></tr></tbody></table>"
      ],
      "text/plain": [
       "10000×5 DataFrames.DataFrame\n",
       "│ Row   │ r   │ avg_degree │ beta │ gamma │ avg_engaged │\n",
       "├───────┼─────┼────────────┼──────┼───────┼─────────────┤\n",
       "│ 1     │ 1   │ 5.064      │ 0.0  │ 0.0   │ 0.994       │\n",
       "│ 2     │ 2   │ 4.876      │ 0.0  │ 0.0   │ 0.994       │\n",
       "│ 3     │ 3   │ 5.028      │ 0.0  │ 0.0   │ 0.994       │\n",
       "│ 4     │ 4   │ 4.988      │ 0.0  │ 0.0   │ 0.99        │\n",
       "│ 5     │ 5   │ 4.82       │ 0.0  │ 0.0   │ 0.994       │\n",
       "│ 6     │ 6   │ 4.872      │ 0.0  │ 0.0   │ 0.998       │\n",
       "│ 7     │ 7   │ 5.164      │ 0.0  │ 0.0   │ 0.992       │\n",
       "│ 8     │ 8   │ 5.192      │ 0.0  │ 0.0   │ 0.998       │\n",
       "│ 9     │ 9   │ 5.152      │ 0.0  │ 0.0   │ 0.994       │\n",
       "│ 10    │ 10  │ 5.104      │ 0.0  │ 0.0   │ 0.996       │\n",
       "│ 11    │ 11  │ 5.18       │ 0.0  │ 0.0   │ 0.996       │\n",
       "⋮\n",
       "│ 9989  │ 89  │ 5.16       │ 1.0  │ 1.0   │ 0.052       │\n",
       "│ 9990  │ 90  │ 5.04       │ 1.0  │ 1.0   │ 0.05        │\n",
       "│ 9991  │ 91  │ 5.232      │ 1.0  │ 1.0   │ 0.05        │\n",
       "│ 9992  │ 92  │ 4.968      │ 1.0  │ 1.0   │ 0.054       │\n",
       "│ 9993  │ 93  │ 5.148      │ 1.0  │ 1.0   │ 0.048       │\n",
       "│ 9994  │ 94  │ 4.944      │ 1.0  │ 1.0   │ 0.05        │\n",
       "│ 9995  │ 95  │ 4.968      │ 1.0  │ 1.0   │ 0.05        │\n",
       "│ 9996  │ 96  │ 4.92       │ 1.0  │ 1.0   │ 0.052       │\n",
       "│ 9997  │ 97  │ 5.052      │ 1.0  │ 1.0   │ 0.05        │\n",
       "│ 9998  │ 98  │ 4.66       │ 1.0  │ 1.0   │ 0.05        │\n",
       "│ 9999  │ 99  │ 5.024      │ 1.0  │ 1.0   │ 0.052       │\n",
       "│ 10000 │ 100 │ 4.932      │ 1.0  │ 1.0   │ 0.052       │"
      ]
     },
     "execution_count": 23,
     "metadata": {},
     "output_type": "execute_result"
    }
   ],
   "source": [
    "results = simulate_er(500, 0.01)"
   ]
  },
  {
   "cell_type": "code",
   "execution_count": 25,
   "metadata": {},
   "outputs": [
    {
     "data": {
      "text/html": [
       "<table class=\"data-frame\"><thead><tr><th></th><th>r</th><th>avg_degree</th><th>beta</th><th>gamma</th><th>avg_engaged</th></tr></thead><tbody><tr><th>1</th><td>1</td><td>5.064</td><td>0.0</td><td>0.0</td><td>0.994</td></tr><tr><th>2</th><td>2</td><td>4.876</td><td>0.0</td><td>0.0</td><td>0.994</td></tr><tr><th>3</th><td>3</td><td>5.028</td><td>0.0</td><td>0.0</td><td>0.994</td></tr><tr><th>4</th><td>4</td><td>4.988</td><td>0.0</td><td>0.0</td><td>0.99</td></tr><tr><th>5</th><td>5</td><td>4.82</td><td>0.0</td><td>0.0</td><td>0.994</td></tr><tr><th>6</th><td>6</td><td>4.872</td><td>0.0</td><td>0.0</td><td>0.998</td></tr><tr><th>7</th><td>7</td><td>5.164</td><td>0.0</td><td>0.0</td><td>0.992</td></tr><tr><th>8</th><td>8</td><td>5.192</td><td>0.0</td><td>0.0</td><td>0.998</td></tr><tr><th>9</th><td>9</td><td>5.152</td><td>0.0</td><td>0.0</td><td>0.994</td></tr><tr><th>10</th><td>10</td><td>5.104</td><td>0.0</td><td>0.0</td><td>0.996</td></tr><tr><th>11</th><td>11</td><td>5.18</td><td>0.0</td><td>0.0</td><td>0.996</td></tr><tr><th>12</th><td>12</td><td>4.908</td><td>0.0</td><td>0.0</td><td>0.99</td></tr><tr><th>13</th><td>13</td><td>5.024</td><td>0.0</td><td>0.0</td><td>0.992</td></tr><tr><th>14</th><td>14</td><td>4.864</td><td>0.0</td><td>0.0</td><td>0.996</td></tr><tr><th>15</th><td>15</td><td>5.16</td><td>0.0</td><td>0.0</td><td>0.986</td></tr><tr><th>16</th><td>16</td><td>5.18</td><td>0.0</td><td>0.0</td><td>0.996</td></tr><tr><th>17</th><td>17</td><td>4.984</td><td>0.0</td><td>0.0</td><td>0.992</td></tr><tr><th>18</th><td>18</td><td>5.108</td><td>0.0</td><td>0.0</td><td>0.994</td></tr><tr><th>19</th><td>19</td><td>5.168</td><td>0.0</td><td>0.0</td><td>0.992</td></tr><tr><th>20</th><td>20</td><td>4.86</td><td>0.0</td><td>0.0</td><td>0.99</td></tr><tr><th>21</th><td>21</td><td>4.772</td><td>0.0</td><td>0.0</td><td>0.992</td></tr><tr><th>22</th><td>22</td><td>5.048</td><td>0.0</td><td>0.0</td><td>0.99</td></tr><tr><th>23</th><td>23</td><td>4.936</td><td>0.0</td><td>0.0</td><td>0.986</td></tr><tr><th>24</th><td>24</td><td>5.044</td><td>0.0</td><td>0.0</td><td>0.99</td></tr><tr><th>25</th><td>25</td><td>5.056</td><td>0.0</td><td>0.0</td><td>0.988</td></tr><tr><th>26</th><td>26</td><td>4.976</td><td>0.0</td><td>0.0</td><td>1.0</td></tr><tr><th>27</th><td>27</td><td>5.056</td><td>0.0</td><td>0.0</td><td>0.998</td></tr><tr><th>28</th><td>28</td><td>5.028</td><td>0.0</td><td>0.0</td><td>1.0</td></tr><tr><th>29</th><td>29</td><td>4.92</td><td>0.0</td><td>0.0</td><td>0.99</td></tr><tr><th>30</th><td>30</td><td>4.908</td><td>0.0</td><td>0.0</td><td>0.994</td></tr><tr><th>&vellip;</th><td>&vellip;</td><td>&vellip;</td><td>&vellip;</td><td>&vellip;</td><td>&vellip;</td></tr></tbody></table>"
      ],
      "text/plain": [
       "10000×5 DataFrames.DataFrame\n",
       "│ Row   │ r   │ avg_degree │ beta │ gamma │ avg_engaged │\n",
       "├───────┼─────┼────────────┼──────┼───────┼─────────────┤\n",
       "│ 1     │ 1   │ 5.064      │ 0.0  │ 0.0   │ 0.994       │\n",
       "│ 2     │ 2   │ 4.876      │ 0.0  │ 0.0   │ 0.994       │\n",
       "│ 3     │ 3   │ 5.028      │ 0.0  │ 0.0   │ 0.994       │\n",
       "│ 4     │ 4   │ 4.988      │ 0.0  │ 0.0   │ 0.99        │\n",
       "│ 5     │ 5   │ 4.82       │ 0.0  │ 0.0   │ 0.994       │\n",
       "│ 6     │ 6   │ 4.872      │ 0.0  │ 0.0   │ 0.998       │\n",
       "│ 7     │ 7   │ 5.164      │ 0.0  │ 0.0   │ 0.992       │\n",
       "│ 8     │ 8   │ 5.192      │ 0.0  │ 0.0   │ 0.998       │\n",
       "│ 9     │ 9   │ 5.152      │ 0.0  │ 0.0   │ 0.994       │\n",
       "│ 10    │ 10  │ 5.104      │ 0.0  │ 0.0   │ 0.996       │\n",
       "│ 11    │ 11  │ 5.18       │ 0.0  │ 0.0   │ 0.996       │\n",
       "⋮\n",
       "│ 9989  │ 89  │ 5.16       │ 1.0  │ 1.0   │ 0.052       │\n",
       "│ 9990  │ 90  │ 5.04       │ 1.0  │ 1.0   │ 0.05        │\n",
       "│ 9991  │ 91  │ 5.232      │ 1.0  │ 1.0   │ 0.05        │\n",
       "│ 9992  │ 92  │ 4.968      │ 1.0  │ 1.0   │ 0.054       │\n",
       "│ 9993  │ 93  │ 5.148      │ 1.0  │ 1.0   │ 0.048       │\n",
       "│ 9994  │ 94  │ 4.944      │ 1.0  │ 1.0   │ 0.05        │\n",
       "│ 9995  │ 95  │ 4.968      │ 1.0  │ 1.0   │ 0.05        │\n",
       "│ 9996  │ 96  │ 4.92       │ 1.0  │ 1.0   │ 0.052       │\n",
       "│ 9997  │ 97  │ 5.052      │ 1.0  │ 1.0   │ 0.05        │\n",
       "│ 9998  │ 98  │ 4.66       │ 1.0  │ 1.0   │ 0.05        │\n",
       "│ 9999  │ 99  │ 5.024      │ 1.0  │ 1.0   │ 0.052       │\n",
       "│ 10000 │ 100 │ 4.932      │ 1.0  │ 1.0   │ 0.052       │"
      ]
     },
     "execution_count": 25,
     "metadata": {},
     "output_type": "execute_result"
    }
   ],
   "source": [
    "@rput results"
   ]
  },
  {
   "cell_type": "code",
   "execution_count": 28,
   "metadata": {},
   "outputs": [
    {
     "data": {
      "text/plain": [
       "RCall.RObject{RCall.VecSxp}\n",
       "# A tibble: 100 x 5\n",
       "# Groups:   beta [?]\n",
       "    beta gamma Degree Avg_Uptake Var_Uptake\n",
       "   <dbl> <dbl>  <dbl>      <dbl>      <dbl>\n",
       " 1    0. 0.      4.97     0.994  0.0000116 \n",
       " 2    0. 0.111   4.97     0.994  0.0000134 \n",
       " 3    0. 0.222   4.97     0.994  0.0000112 \n",
       " 4    0. 0.333   5.01     0.994  0.0000108 \n",
       " 5    0. 0.444   4.98     0.993  0.0000152 \n",
       " 6    0. 0.556   4.99     0.0491 0.00000157\n",
       " 7    0. 0.667   5.01     0.0491 0.00000180\n",
       " 8    0. 0.778   4.99     0.0490 0.00000198\n",
       " 9    0. 0.889   4.99     0.0490 0.00000198\n",
       "10    0. 1.00    4.97     0.0487 0.00000223\n",
       "# ... with 90 more rows\n"
      ]
     },
     "execution_count": 28,
     "metadata": {},
     "output_type": "execute_result"
    }
   ],
   "source": [
    "R\"\"\"\n",
    "library(tidyverse)\n",
    "\n",
    "results_summary <- results %>% group_by(beta, gamma) %>% summarize(Degree = mean(avg_degree),\n",
    "                                                                   Avg_Uptake = mean(avg_engaged),\n",
    "                                                                   Var_Uptake = var(avg_engaged)) \n",
    "\n",
    "\n",
    "\"\"\""
   ]
  },
  {
   "cell_type": "code",
   "execution_count": 31,
   "metadata": {},
   "outputs": [
    {
     "data": {
      "image/png": "[encoded data removed]"
     },
     "metadata": {},
     "output_type": "display_data"
    },
    {
     "data": {
      "text/plain": [
       "RCall.RObject{RCall.VecSxp}\n"
      ]
     },
     "execution_count": 31,
     "metadata": {},
     "output_type": "execute_result"
    }
   ],
   "source": [
    "R\"\"\"\n",
    "ggplot(data = results_summary, aes(x = gamma, y = beta)) +\n",
    "    geom_point(aes(color = Avg_Uptake)) +\n",
    "    scale_color_gradient(low = \"white\", high = \"black\") +\n",
    "    theme_bw()\n",
    "\n",
    "\"\"\""
   ]
  },
  {
   "cell_type": "code",
   "execution_count": 35,
   "metadata": {},
   "outputs": [
    {
     "data": {
      "image/png": "[encoded data removed]"
     },
     "metadata": {},
     "output_type": "display_data"
    },
    {
     "data": {
      "text/plain": [
       "RCall.RObject{RCall.VecSxp}\n"
      ]
     },
     "execution_count": 35,
     "metadata": {},
     "output_type": "execute_result"
    }
   ],
   "source": [
    "R\"\"\"\n",
    "ggplot(data = results, aes(x = gamma, y = beta)) + \n",
    "    geom_point(aes(color = avg_engaged), position = \"jitter\") +\n",
    "    scale_color_gradient(low = \"grey\", high = \"black\") +\n",
    "    theme_bw()\n",
    "\n",
    "\"\"\""
   ]
  },
  {
   "cell_type": "code",
   "execution_count": null,
   "metadata": {
    "collapsed": true
   },
   "outputs": [],
   "source": []
  }
 ],
 "metadata": {
  "kernelspec": {
   "display_name": "Julia 0.6.2",
   "language": "julia",
   "name": "julia-0.6"
  },
  "language_info": {
   "file_extension": ".jl",
   "mimetype": "application/julia",
   "name": "julia",
   "version": "0.6.2"
  }
 },
 "nbformat": 4,
 "nbformat_minor": 2
}
