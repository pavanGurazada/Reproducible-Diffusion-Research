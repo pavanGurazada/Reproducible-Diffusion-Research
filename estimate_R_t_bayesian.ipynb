{
  "nbformat": 4,
  "nbformat_minor": 0,
  "metadata": {
    "colab": {
      "name": "estimate-R_t-bayesian.ipynb",
      "provenance": [],
      "private_outputs": true,
      "collapsed_sections": [],
      "toc_visible": true,
      "authorship_tag": "ABX9TyPoV6bsskwmMzclcN3bGTSp",
      "include_colab_link": true
    },
    "kernelspec": {
      "name": "python3",
      "display_name": "Python 3"
    }
  },
  "cells": [
    {
      "cell_type": "markdown",
      "metadata": {
        "id": "view-in-github",
        "colab_type": "text"
      },
      "source": [
        "<a href=\"https://colab.research.google.com/github/pgurazada/Reproducible-Diffusion-Research/blob/master/estimate_R_t_bayesian.ipynb\" target=\"_parent\"><img src=\"https://colab.research.google.com/assets/colab-badge.svg\" alt=\"Open In Colab\"/></a>"
      ]
    },
    {
      "cell_type": "markdown",
      "metadata": {
        "id": "fOY8bKPzOivB",
        "colab_type": "text"
      },
      "source": [
        "# Bayesian estimation of $R_t$ \n",
        "\n",
        "Following the code hosted [here](https://github.com/k-sys/covid-19/blob/master/Realtime%20R0.ipynb)"
      ]
    },
    {
      "cell_type": "code",
      "metadata": {
        "id": "hMBc8ApQNbNB",
        "colab_type": "code",
        "colab": {}
      },
      "source": [
        "import pandas as pd\n",
        "import numpy as np\n",
        "\n",
        "from matplotlib import pyplot as plt\n",
        "from matplotlib.dates import date2num, num2date\n",
        "from matplotlib import dates as mdates\n",
        "from matplotlib import ticker\n",
        "from matplotlib.colors import ListedColormap\n",
        "from matplotlib.patches import Patch\n",
        "\n",
        "from scipy import stats as sps\n",
        "from scipy.interpolate import interp1d\n",
        "\n",
        "from IPython.display import clear_output"
      ],
      "execution_count": 0,
      "outputs": []
    },
    {
      "cell_type": "code",
      "metadata": {
        "id": "TWOygLKvNvVU",
        "colab_type": "code",
        "colab": {}
      },
      "source": [
        "%config InlineBackend.figure_format = 'retina'"
      ],
      "execution_count": 0,
      "outputs": []
    },
    {
      "cell_type": "markdown",
      "metadata": {
        "id": "UNnJMgMHT84L",
        "colab_type": "text"
      },
      "source": [
        "## Model logic"
      ]
    },
    {
      "cell_type": "code",
      "metadata": {
        "id": "buSF5E-jNyPa",
        "colab_type": "code",
        "colab": {}
      },
      "source": [
        "# Column vector of k\n",
        "k = np.arange(0, 70)[:, None]\n",
        "\n",
        "# Different values of Lambda\n",
        "lambdas = [10, 20, 30, 40]\n",
        "\n",
        "# Evaluated the Probability Mass Function (remember: poisson is discrete)\n",
        "y = sps.poisson.pmf(k, lambdas)\n",
        "\n",
        "# Show the resulting shape\n",
        "print(y.shape)"
      ],
      "execution_count": 0,
      "outputs": []
    },
    {
      "cell_type": "code",
      "metadata": {
        "id": "vx-uiBjYN1VM",
        "colab_type": "code",
        "colab": {}
      },
      "source": [
        "\n",
        "fig, ax = plt.subplots()\n",
        "\n",
        "ax.set(title='Poisson Distribution of Cases\\n $p(k|\\lambda)$')\n",
        "\n",
        "plt.plot(k, y,\n",
        "         marker='o',\n",
        "         markersize=3,\n",
        "         lw=0)\n",
        "\n",
        "plt.legend(title=\"$\\lambda$\", labels=lambdas);\n"
      ],
      "execution_count": 0,
      "outputs": []
    },
    {
      "cell_type": "markdown",
      "metadata": {
        "id": "0hDe1WnVPHoW",
        "colab_type": "text"
      },
      "source": [
        "If you observe 20 cases, what is the likelihood of $\\lambda$?\n"
      ]
    },
    {
      "cell_type": "code",
      "metadata": {
        "id": "O0m8DZSpN4k4",
        "colab_type": "code",
        "colab": {}
      },
      "source": [
        "k = 20\n",
        "\n",
        "lam = np.linspace(1, 45, 90)\n",
        "\n",
        "likelihood = pd.Series(data=sps.poisson.pmf(k, lam),\n",
        "                       index=pd.Index(lam, name='$\\lambda$'),\n",
        "                       name='lambda')\n",
        "\n",
        "likelihood.plot(title=r'Likelihood $P\\left(k_t=20|\\lambda\\right)$');"
      ],
      "execution_count": 0,
      "outputs": []
    },
    {
      "cell_type": "code",
      "metadata": {
        "id": "vOaz0Bk1PBtu",
        "colab_type": "code",
        "colab": {}
      },
      "source": [
        "k = np.array([20, 40, 55, 90])\n",
        "\n",
        "# We create an array for every possible value of Rt\n",
        "R_T_MAX = 12\n",
        "r_t_range = np.linspace(0, R_T_MAX, R_T_MAX*100+1)\n",
        "\n",
        "# Gamma is 1/serial interval\n",
        "# https://wwwnc.cdc.gov/eid/article/26/7/20-0282_article\n",
        "# https://www.nejm.org/doi/full/10.1056/NEJMoa2001316\n",
        "GAMMA = 1/7\n",
        "\n",
        "# Map Rt into lambda so we can substitute it into the equation below\n",
        "# Note that we have N-1 lambdas because on the first day of an outbreak\n",
        "# you do not know what to expect.\n",
        "lam = k[:-1] * np.exp(GAMMA * (r_t_range[:, None] - 1))\n",
        "\n",
        "# Evaluate the likelihood on each day and normalize sum of each day to 1.0\n",
        "likelihood_r_t = sps.poisson.pmf(k[1:], lam)\n",
        "likelihood_r_t /= np.sum(likelihood_r_t, axis=0)\n",
        "\n",
        "# Plot it\n",
        "ax = pd.DataFrame(\n",
        "    data = likelihood_r_t,\n",
        "    index = r_t_range\n",
        ").plot(\n",
        "    title='Likelihood of $R_t$ given $k$',\n",
        "    xlim=(0,10)\n",
        ")\n",
        "\n",
        "ax.legend(labels=k[1:], title='New Cases')\n",
        "ax.set_xlabel('$R_t$');"
      ],
      "execution_count": 0,
      "outputs": []
    },
    {
      "cell_type": "code",
      "metadata": {
        "id": "a4kAwy_XTD68",
        "colab_type": "code",
        "colab": {}
      },
      "source": [
        "posteriors = likelihood_r_t.cumprod(axis=1)\n",
        "posteriors = posteriors / np.sum(posteriors, axis=0)\n",
        "\n",
        "columns = pd.Index(range(1, posteriors.shape[1]+1), name='Day')\n",
        "posteriors = pd.DataFrame(\n",
        "    data = posteriors,\n",
        "    index = r_t_range,\n",
        "    columns = columns)\n",
        "\n",
        "ax = posteriors.plot(\n",
        "    title='Posterior $P(R_t|k)$',\n",
        "    xlim=(0,10)\n",
        ")\n",
        "ax.legend(title='Day')\n",
        "ax.set_xlabel('$R_t$');"
      ],
      "execution_count": 0,
      "outputs": []
    },
    {
      "cell_type": "code",
      "metadata": {
        "id": "k6cuyUTFTKrX",
        "colab_type": "code",
        "colab": {}
      },
      "source": [
        "most_likely_values = posteriors.idxmax(axis=0)\n",
        "most_likely_values"
      ],
      "execution_count": 0,
      "outputs": []
    },
    {
      "cell_type": "code",
      "metadata": {
        "id": "xAw9rFTBTTJy",
        "colab_type": "code",
        "colab": {}
      },
      "source": [
        "def highest_density_interval(pmf, p=.9):\n",
        "    # If we pass a DataFrame, just call this recursively on the columns\n",
        "    if(isinstance(pmf, pd.DataFrame)):\n",
        "        return pd.DataFrame([highest_density_interval(pmf[col], p=p) for col in pmf],\n",
        "                            index=pmf.columns)\n",
        "    \n",
        "    cumsum = np.cumsum(pmf.values)\n",
        "    \n",
        "    # N x N matrix of total probability mass for each low, high\n",
        "    total_p = cumsum - cumsum[:, None]\n",
        "    \n",
        "    # Return all indices with total_p > p\n",
        "    lows, highs = (total_p > p).nonzero()\n",
        "    \n",
        "    # Find the smallest range (highest density)\n",
        "    best = (highs - lows).argmin()\n",
        "    \n",
        "    low = pmf.index[lows[best]]\n",
        "    high = pmf.index[highs[best]]\n",
        "    \n",
        "    return pd.Series([low, high],\n",
        "                     index=[f'Low_{p*100:.0f}',\n",
        "                            f'High_{p*100:.0f}'])"
      ],
      "execution_count": 0,
      "outputs": []
    },
    {
      "cell_type": "code",
      "metadata": {
        "id": "uxT_FLDlTVRa",
        "colab_type": "code",
        "colab": {}
      },
      "source": [
        "hdi = highest_density_interval(posteriors)\n",
        "hdi.tail()"
      ],
      "execution_count": 0,
      "outputs": []
    },
    {
      "cell_type": "code",
      "metadata": {
        "id": "mJs641tyTcCS",
        "colab_type": "code",
        "colab": {}
      },
      "source": [
        "ax = most_likely_values.plot(marker='o',\n",
        "                             label='Most Likely',\n",
        "                             title=f'$R_t$ by day',\n",
        "                             c='k',\n",
        "                             markersize=4)\n",
        "\n",
        "ax.fill_between(hdi.index,\n",
        "                hdi['Low_90'],\n",
        "                hdi['High_90'],\n",
        "                color='k',\n",
        "                alpha=.1,\n",
        "                lw=0,\n",
        "                label='HDI')\n",
        "\n",
        "ax.legend();"
      ],
      "execution_count": 0,
      "outputs": []
    },
    {
      "cell_type": "markdown",
      "metadata": {
        "id": "FmhTOwhfT5uN",
        "colab_type": "text"
      },
      "source": [
        "## Data for USA"
      ]
    },
    {
      "cell_type": "code",
      "metadata": {
        "id": "1Qwyp8ipTh6b",
        "colab_type": "code",
        "colab": {}
      },
      "source": [
        "url = 'https://covidtracking.com/api/v1/states/daily.csv'\n",
        "states = pd.read_csv(url,\n",
        "                     usecols=['date', 'state', 'positive'],\n",
        "                     parse_dates=['date'],\n",
        "                     index_col=['state', 'date'],\n",
        "                     squeeze=True).sort_index()"
      ],
      "execution_count": 0,
      "outputs": []
    },
    {
      "cell_type": "code",
      "metadata": {
        "id": "vR59eQAAT_29",
        "colab_type": "code",
        "colab": {}
      },
      "source": [
        "states.head()"
      ],
      "execution_count": 0,
      "outputs": []
    },
    {
      "cell_type": "code",
      "metadata": {
        "id": "2n0uaUWaUBMA",
        "colab_type": "code",
        "colab": {}
      },
      "source": [
        "def prepare_cases(cases, cutoff=25):\n",
        "    new_cases = cases.diff()\n",
        "\n",
        "    smoothed = (new_cases.rolling(7, win_type='gaussian', min_periods=1, center=True)\n",
        "                         .mean(std=2)\n",
        "                         .round())\n",
        "    \n",
        "    idx_start = np.searchsorted(smoothed, cutoff)\n",
        "    \n",
        "    smoothed = smoothed.iloc[idx_start:]\n",
        "    original = new_cases.loc[smoothed.index]\n",
        "    \n",
        "    return original, smoothed"
      ],
      "execution_count": 0,
      "outputs": []
    },
    {
      "cell_type": "code",
      "metadata": {
        "id": "CoYB-rlbW2gS",
        "colab_type": "code",
        "colab": {}
      },
      "source": [
        "state_name = \"NY\"\n",
        "cases = states.xs(state_name).rename(f\"{state_name} cases\")\n",
        "\n",
        "original, smoothed = prepare_cases(cases)"
      ],
      "execution_count": 0,
      "outputs": []
    },
    {
      "cell_type": "code",
      "metadata": {
        "id": "5ZP2JmrhXO-c",
        "colab_type": "code",
        "colab": {}
      },
      "source": [
        "original.plot(title=f\"{state_name} New Cases per Day\",\n",
        "               c='k',\n",
        "               linestyle=':',\n",
        "               alpha=.5,\n",
        "               label='Actual',\n",
        "               legend=True,\n",
        "             figsize=(500/72, 300/72))\n",
        "\n",
        "ax = smoothed.plot(label='Smoothed',\n",
        "                   legend=True)\n",
        "\n",
        "ax.get_figure().set_facecolor('w')"
      ],
      "execution_count": 0,
      "outputs": []
    },
    {
      "cell_type": "markdown",
      "metadata": {
        "id": "IKtm7QsYYR-m",
        "colab_type": "text"
      },
      "source": [
        "To calculate the posteriors we follow these steps:\n",
        "\n",
        "- Calculate $\\lambda$ - the expected arrival rate for every day's poisson process\n",
        "- Calculate each day's likelihood distribution over all possible values of $R_t$\n",
        "- Calculate the process matrix based on the value of $\\sigma$ \n",
        "- Calculate our initial prior because our first day does not have a previous day from which to take the posterior\n",
        "  - Based on info from the CDC we will choose a Gamma with mean 7.\n",
        "- Loop from day 1 to the end, doing the following:\n",
        " - Calculate the prior by applying the Gaussian to yesterday's prior.\n",
        " - Apply Bayes' rule by multiplying this prior and the likelihood we calculated in step 2.\n",
        " - Divide by the probability of the data (also Bayes' rule)"
      ]
    },
    {
      "cell_type": "code",
      "metadata": {
        "id": "K-b_-3oSXQ9C",
        "colab_type": "code",
        "colab": {}
      },
      "source": [
        "def get_posteriors(sr, sigma=0.15):\n",
        "\n",
        "    # (1) Calculate Lambda\n",
        "    lam = sr[:-1].values * np.exp(GAMMA * (r_t_range[:, None] - 1))\n",
        "\n",
        "    \n",
        "    # (2) Calculate each day's likelihood\n",
        "    likelihoods = pd.DataFrame(\n",
        "        data = sps.poisson.pmf(sr[1:].values, lam),\n",
        "        index = r_t_range,\n",
        "        columns = sr.index[1:])\n",
        "    \n",
        "    # (3) Create the Gaussian Matrix\n",
        "    process_matrix = sps.norm(loc=r_t_range,\n",
        "                              scale=sigma\n",
        "                             ).pdf(r_t_range[:, None]) \n",
        "\n",
        "    # (3a) Normalize all rows to sum to 1\n",
        "    process_matrix /= process_matrix.sum(axis=0)\n",
        "    \n",
        "    # (4) Calculate the initial prior\n",
        "    prior0 = sps.gamma(a=4).pdf(r_t_range)\n",
        "    prior0 /= prior0.sum()\n",
        "\n",
        "    # Create a DataFrame that will hold our posteriors for each day\n",
        "    # Insert our prior as the first posterior.\n",
        "    posteriors = pd.DataFrame(\n",
        "        index=r_t_range,\n",
        "        columns=sr.index,\n",
        "        data={sr.index[0]: prior0}\n",
        "    )\n",
        "    \n",
        "    # We said we'd keep track of the sum of the log of the probability\n",
        "    # of the data for maximum likelihood calculation.\n",
        "    log_likelihood = 0.0\n",
        "\n",
        "    # (5) Iteratively apply Bayes' rule\n",
        "    for previous_day, current_day in zip(sr.index[:-1], sr.index[1:]):\n",
        "\n",
        "        #(5a) Calculate the new prior\n",
        "        current_prior = process_matrix @ posteriors[previous_day]\n",
        "        \n",
        "        #(5b) Calculate the numerator of Bayes' Rule: P(k|R_t)P(R_t)\n",
        "        numerator = likelihoods[current_day] * current_prior\n",
        "        \n",
        "        #(5c) Calcluate the denominator of Bayes' Rule P(k)\n",
        "        denominator = np.sum(numerator)\n",
        "        \n",
        "        # Execute full Bayes' Rule\n",
        "        posteriors[current_day] = numerator/denominator\n",
        "        \n",
        "        # Add to the running sum of log likelihoods\n",
        "        log_likelihood += np.log(denominator)\n",
        "    \n",
        "    return posteriors, log_likelihood\n"
      ],
      "execution_count": 0,
      "outputs": []
    },
    {
      "cell_type": "code",
      "metadata": {
        "id": "2Lr0HbVSYwu7",
        "colab_type": "code",
        "colab": {}
      },
      "source": [
        "posteriors, log_likelihood = get_posteriors(smoothed, sigma=.25)"
      ],
      "execution_count": 0,
      "outputs": []
    },
    {
      "cell_type": "code",
      "metadata": {
        "id": "0dPrrrrxYyzA",
        "colab_type": "code",
        "colab": {}
      },
      "source": [
        "ax = posteriors.plot(title=f'{state_name} - Daily Posterior for $R_t$',\n",
        "           legend=False, \n",
        "           lw=1,\n",
        "           c='k',\n",
        "           alpha=.3,\n",
        "           xlim=(0.4,6))\n",
        "\n",
        "ax.set_xlabel('$R_t$');"
      ],
      "execution_count": 0,
      "outputs": []
    },
    {
      "cell_type": "code",
      "metadata": {
        "id": "h-xwmLjLY_ni",
        "colab_type": "code",
        "colab": {}
      },
      "source": [
        "# Note that this takes a while to execute - it's not the most efficient algorithm\n",
        "hdis = highest_density_interval(posteriors, p=.9)\n",
        "\n",
        "most_likely = posteriors.idxmax().rename('ML')\n",
        "\n",
        "# Look into why you shift -1\n",
        "result = pd.concat([most_likely, hdis], axis=1)\n",
        "\n",
        "result.tail()"
      ],
      "execution_count": 0,
      "outputs": []
    },
    {
      "cell_type": "code",
      "metadata": {
        "id": "99xNEdbIZEh3",
        "colab_type": "code",
        "colab": {}
      },
      "source": [
        "def plot_rt(result, ax, state_name):\n",
        "    \n",
        "    ax.set_title(f\"{state_name}\")\n",
        "    \n",
        "    # Colors\n",
        "    ABOVE = [1,0,0]\n",
        "    MIDDLE = [1,1,1]\n",
        "    BELOW = [0,0,0]\n",
        "    cmap = ListedColormap(np.r_[\n",
        "        np.linspace(BELOW,MIDDLE,25),\n",
        "        np.linspace(MIDDLE,ABOVE,25)\n",
        "    ])\n",
        "    color_mapped = lambda y: np.clip(y, .5, 1.5)-.5\n",
        "    \n",
        "    index = result['ML'].index.get_level_values('date')\n",
        "    values = result['ML'].values\n",
        "    \n",
        "    # Plot dots and line\n",
        "    ax.plot(index, values, c='k', zorder=1, alpha=.25)\n",
        "    ax.scatter(index,\n",
        "               values,\n",
        "               s=40,\n",
        "               lw=.5,\n",
        "               c=cmap(color_mapped(values)),\n",
        "               edgecolors='k', zorder=2)\n",
        "    \n",
        "    # Aesthetically, extrapolate credible interval by 1 day either side\n",
        "    lowfn = interp1d(date2num(index),\n",
        "                     result['Low_90'].values,\n",
        "                     bounds_error=False,\n",
        "                     fill_value='extrapolate')\n",
        "    \n",
        "    highfn = interp1d(date2num(index),\n",
        "                      result['High_90'].values,\n",
        "                      bounds_error=False,\n",
        "                      fill_value='extrapolate')\n",
        "    \n",
        "    extended = pd.date_range(start=pd.Timestamp('2020-03-01'),\n",
        "                             end=index[-1]+pd.Timedelta(days=1))\n",
        "    \n",
        "    ax.fill_between(extended,\n",
        "                    lowfn(date2num(extended)),\n",
        "                    highfn(date2num(extended)),\n",
        "                    color='k',\n",
        "                    alpha=.1,\n",
        "                    lw=0,\n",
        "                    zorder=3)\n",
        "\n",
        "    ax.axhline(1.0, c='k', lw=1, label='$R_t=1.0$', alpha=.25);\n",
        "    \n",
        "    # Formatting\n",
        "    ax.xaxis.set_major_locator(mdates.MonthLocator())\n",
        "    ax.xaxis.set_major_formatter(mdates.DateFormatter('%b'))\n",
        "    ax.xaxis.set_minor_locator(mdates.DayLocator())\n",
        "    \n",
        "    ax.yaxis.set_major_locator(ticker.MultipleLocator(1))\n",
        "    ax.yaxis.set_major_formatter(ticker.StrMethodFormatter(\"{x:.1f}\"))\n",
        "    ax.yaxis.tick_right()\n",
        "    ax.spines['left'].set_visible(False)\n",
        "    ax.spines['bottom'].set_visible(False)\n",
        "    ax.spines['right'].set_visible(False)\n",
        "    ax.margins(0)\n",
        "    ax.grid(which='major', axis='y', c='k', alpha=.1, zorder=-2)\n",
        "    ax.margins(0)\n",
        "    ax.set_ylim(0.0, 5.0)\n",
        "    ax.set_xlim(pd.Timestamp('2020-03-01'), result.index.get_level_values('date')[-1]+pd.Timedelta(days=1))\n",
        "    fig.set_facecolor('w')\n",
        "\n",
        "    \n",
        "fig, ax = plt.subplots(figsize=(600/72,400/72))\n",
        "\n",
        "plot_rt(result, ax, state_name)\n",
        "ax.set_title(f'Real-time $R_t$ for {state_name}')\n",
        "ax.xaxis.set_major_locator(mdates.WeekdayLocator())\n",
        "ax.xaxis.set_major_formatter(mdates.DateFormatter('%b %d'))\n"
      ],
      "execution_count": 0,
      "outputs": []
    },
    {
      "cell_type": "markdown",
      "metadata": {
        "id": "i_sXpyZBZYr_",
        "colab_type": "text"
      },
      "source": [
        "### Optimizing $\\sigma$"
      ]
    },
    {
      "cell_type": "code",
      "metadata": {
        "id": "E84E5o3WZMNV",
        "colab_type": "code",
        "colab": {}
      },
      "source": [
        "FILTERED_REGION_CODES = ['AS', 'GU', 'PR', 'VI', 'MP']\n",
        "sigmas = np.linspace(1/20, 1, 20)\n",
        "\n",
        "targets = ~states.index.get_level_values('state').isin(FILTERED_REGION_CODES)\n",
        "states_to_process = states.loc[targets]\n",
        "\n",
        "results = {}\n",
        "\n",
        "for state_name, cases in states_to_process.groupby(level='state'):\n",
        "    \n",
        "    print(state_name)\n",
        "    new, smoothed = prepare_cases(cases, cutoff=25)\n",
        "    \n",
        "    if len(smoothed) == 0:\n",
        "        new, smoothed = prepare_cases(cases, cutoff=10)\n",
        "    \n",
        "    result = {}\n",
        "    \n",
        "    # Holds all posteriors with every given value of sigma\n",
        "    result['posteriors'] = []\n",
        "    \n",
        "    # Holds the log likelihood across all k for each value of sigma\n",
        "    result['log_likelihoods'] = []\n",
        "    \n",
        "    for sigma in sigmas:\n",
        "        posteriors, log_likelihood = get_posteriors(smoothed, sigma=sigma)\n",
        "        result['posteriors'].append(posteriors)\n",
        "        result['log_likelihoods'].append(log_likelihood)\n",
        "    \n",
        "    # Store all results keyed off of state name\n",
        "    results[state_name] = result\n",
        "    clear_output(wait=True)\n"
      ],
      "execution_count": 0,
      "outputs": []
    },
    {
      "cell_type": "code",
      "metadata": {
        "id": "2mWwLP2lZfT3",
        "colab_type": "code",
        "colab": {}
      },
      "source": [
        "# Each index of this array holds the total of the log likelihoods for\n",
        "# the corresponding index of the sigmas array.\n",
        "total_log_likelihoods = np.zeros_like(sigmas)\n",
        "\n",
        "# Loop through each state's results and add the log likelihoods to the running total.\n",
        "for state_name, result in results.items():\n",
        "    total_log_likelihoods += result['log_likelihoods']\n",
        "\n",
        "# Select the index with the largest log likelihood total\n",
        "max_likelihood_index = total_log_likelihoods.argmax()\n",
        "\n",
        "# Select the value that has the highest log likelihood\n",
        "sigma = sigmas[max_likelihood_index]\n",
        "\n",
        "# Plot it\n",
        "fig, ax = plt.subplots()\n",
        "ax.set_title(f\"Maximum Likelihood value for $\\sigma$ = {sigma:.2f}\");\n",
        "ax.plot(sigmas, total_log_likelihoods)\n",
        "ax.axvline(sigma, color='k', linestyle=\":\")"
      ],
      "execution_count": 0,
      "outputs": []
    },
    {
      "cell_type": "code",
      "metadata": {
        "id": "CXty1tr7bH8X",
        "colab_type": "code",
        "colab": {}
      },
      "source": [
        "final_results = None\n",
        "\n",
        "for state_name, result in results.items():\n",
        "    print(state_name)\n",
        "    posteriors = result['posteriors'][max_likelihood_index]\n",
        "    try:\n",
        "      hdis_90 = highest_density_interval(posteriors, p=.9)\n",
        "      hdis_50 = highest_density_interval(posteriors, p=.5)\n",
        "      most_likely = posteriors.idxmax().rename('ML')\n",
        "      result = pd.concat([most_likely, hdis_90, hdis_50], axis=1)\n",
        "      \n",
        "      if final_results is None:\n",
        "        final_results = result\n",
        "      else:\n",
        "        final_results = pd.concat([final_results, result])\n",
        "      clear_output(wait=True)\n",
        "    except ValueError:\n",
        "      continue\n",
        "\n",
        "print('Done.')"
      ],
      "execution_count": 0,
      "outputs": []
    },
    {
      "cell_type": "code",
      "metadata": {
        "id": "frK1X6Y8bNcL",
        "colab_type": "code",
        "colab": {}
      },
      "source": [
        "ncols = 4\n",
        "nrows = int(np.ceil(len(results) / ncols))\n",
        "\n",
        "fig, axes = plt.subplots(nrows=nrows, ncols=ncols, figsize=(15, nrows*3))\n",
        "\n",
        "for i, (state_name, result) in enumerate(final_results.groupby('state')):\n",
        "    plot_rt(result, axes.flat[i], state_name)\n",
        "\n",
        "fig.tight_layout()\n",
        "fig.set_facecolor('w')"
      ],
      "execution_count": 0,
      "outputs": []
    },
    {
      "cell_type": "markdown",
      "metadata": {
        "id": "9hckNC8gcCxX",
        "colab_type": "text"
      },
      "source": [
        "## Data for India"
      ]
    },
    {
      "cell_type": "code",
      "metadata": {
        "id": "gf-MwVaccRkY",
        "colab_type": "code",
        "colab": {}
      },
      "source": [
        "url = \"http://api.covid19india.org/states_daily_csv/confirmed.csv\""
      ],
      "execution_count": 0,
      "outputs": []
    },
    {
      "cell_type": "code",
      "metadata": {
        "id": "2GYKI4CCcFLX",
        "colab_type": "code",
        "colab": {}
      },
      "source": [
        "states = (pd.read_csv(url,\n",
        "                      parse_dates=['date'], \n",
        "                      squeeze=True)\n",
        "            .fillna(0))"
      ],
      "execution_count": 0,
      "outputs": []
    },
    {
      "cell_type": "code",
      "metadata": {
        "id": "MNrhfuJTjKm9",
        "colab_type": "code",
        "colab": {}
      },
      "source": [
        "states_codes = ['AN', 'AP', 'AR', 'AS', 'BR', 'CH', 'CT', 'DD', 'DL',\n",
        "                'DN', 'GA', 'GJ', 'HP', 'HR', 'JH', 'JK', 'KA', 'KL', 'LA', 'LD', 'MH',\n",
        "                'ML', 'MN', 'MP', 'MZ', 'NL', 'OR', 'PB', 'PY', 'RJ', 'SK', 'TG', 'TN',\n",
        "                'TR', 'UP', 'UT', 'WB']"
      ],
      "execution_count": 0,
      "outputs": []
    },
    {
      "cell_type": "code",
      "metadata": {
        "id": "FgOLrPmSkwUx",
        "colab_type": "code",
        "colab": {}
      },
      "source": [
        "states_df = (pd.melt(states, id_vars=\"date\")\n",
        "               .rename(columns={\"variable\": \"state\",\n",
        "                                \"value\": \"positive\"})\n",
        "               .set_index([\"state\", \"date\"])\n",
        "               .sort_index())"
      ],
      "execution_count": 0,
      "outputs": []
    },
    {
      "cell_type": "code",
      "metadata": {
        "id": "IYBN47j3lFVG",
        "colab_type": "code",
        "colab": {}
      },
      "source": [
        "state_name = \"TG\"\n",
        "cases = states_df.xs(state_name)\n",
        "\n",
        "original, smoothed = prepare_cases(cases)"
      ],
      "execution_count": 0,
      "outputs": []
    },
    {
      "cell_type": "code",
      "metadata": {
        "id": "CQ7pYsYYlVxT",
        "colab_type": "code",
        "colab": {}
      },
      "source": [
        ""
      ],
      "execution_count": 0,
      "outputs": []
    }
  ]
}