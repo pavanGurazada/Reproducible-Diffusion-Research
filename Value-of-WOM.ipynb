{
 "cells": [
  {
   "cell_type": "code",
   "execution_count": 2,
   "metadata": {},
   "outputs": [],
   "source": [
    "using Distributions, LightGraphs, DataFrames, RCall, ProgressMeter"
   ]
  },
  {
   "cell_type": "code",
   "execution_count": 3,
   "metadata": {},
   "outputs": [
    {
     "data": {
      "text/plain": [
       "MersenneTwister(UInt32[0x01332bfa], Base.dSFMT.DSFMT_state(Int32[-1772545288, 1073534108, 1077066014, 1072915095, -2146195133, 1072843413, 301764553, 1073404181, 750472136, 1073628106  …  -1491411563, 1073194977, 716119449, 1072893711, 1632331784, 758890923, 1433693833, -13012230, 382, 0]), [1.26294, 1.899, 1.73924, 1.65031, 1.16468, 1.08045, 1.90283, 1.04602, 1.5813, 1.89209  …  1.43725, 1.65819, 1.31951, 1.37285, 1.21427, 1.81925, 1.90415, 1.70235, 1.31837, 1.08371], 382)"
      ]
     },
     "execution_count": 3,
     "metadata": {},
     "output_type": "execute_result"
    }
   ],
   "source": [
    "srand(20130810)"
   ]
  },
  {
   "cell_type": "code",
   "execution_count": 4,
   "metadata": {},
   "outputs": [],
   "source": [
    "mutable struct Network\n",
    "    G::LightGraphs.SimpleGraphs.SimpleGraph{Int}\n",
    "    node_status::Vector{Int}\n",
    "    deltaA::Vector{Float64}\n",
    "    deltaB::Vector{Float64}\n",
    "    qA::Vector{Float64}\n",
    "    qB::Vector{Float64}\n",
    "end"
   ]
  },
  {
   "cell_type": "code",
   "execution_count": 5,
   "metadata": {},
   "outputs": [
    {
     "data": {
      "text/plain": [
       "reset! (generic function with 1 method)"
      ]
     },
     "execution_count": 5,
     "metadata": {},
     "output_type": "execute_result"
    }
   ],
   "source": [
    "function reset!(N::Network)\n",
    "    N.node_status = zeros(Int, nv(N.G))\n",
    "    return nothing\n",
    "end"
   ]
  },
  {
   "cell_type": "code",
   "execution_count": 6,
   "metadata": {},
   "outputs": [
    {
     "data": {
      "text/plain": [
       "active_nbrs (generic function with 1 method)"
      ]
     },
     "execution_count": 6,
     "metadata": {},
     "output_type": "execute_result"
    }
   ],
   "source": [
    "function active_nbrs(N::Network, node::Int, brand::Int)\n",
    "    n_active_nbrs = 0\n",
    "    \n",
    "    for nbr in neighbors(N.G, node)\n",
    "        if N.node_status[nbr] == brand\n",
    "            n_active_nbrs += 1\n",
    "        end\n",
    "    end\n",
    "    \n",
    "    return n_active_nbrs\n",
    "end"
   ]
  },
  {
   "cell_type": "code",
   "execution_count": 7,
   "metadata": {},
   "outputs": [
    {
     "data": {
      "text/plain": [
       "adopt_prob (generic function with 1 method)"
      ]
     },
     "execution_count": 7,
     "metadata": {},
     "output_type": "execute_result"
    }
   ],
   "source": [
    "function adopt_prob(N::Network, node::Int)\n",
    "    n_active_nbrsA = active_nbrs(N, node, 1)\n",
    "    n_active_nbrsB = active_nbrs(N, node, 2)\n",
    "    \n",
    "    pA_i = 1 - (1 - N.deltaA[node]) * ((1 - N.qA[node])^n_active_nbrsA)\n",
    "    pB_i = 1 - (1 - N.deltaB[node]) * ((1 - N.qB[node])^n_active_nbrsB)\n",
    "    alpha = pA_i/(pA_i+pB_i)\n",
    "    \n",
    "    pA = pA_i * (1 - pB_i) + alpha * pA_i * pB_i\n",
    "    pB = pB_i * (1 - pA_i) + (1 - alpha) * pA_i * pB_i \n",
    "\n",
    "    return pA, pB\n",
    "end"
   ]
  },
  {
   "cell_type": "code",
   "execution_count": 13,
   "metadata": {},
   "outputs": [
    {
     "data": {
      "text/plain": [
       "seed! (generic function with 2 methods)"
      ]
     },
     "execution_count": 13,
     "metadata": {},
     "output_type": "execute_result"
    }
   ],
   "source": [
    "function seed!(N::Network, seed_size::Int, brand::Int, mode::String)\n",
    "    if mode == \"random\" # random seeding\n",
    "        seed = sample(vertices(N.G), seed_size, replace=false)\n",
    "        N.node_status[seed] = brand\n",
    "    elseif mode == \"hub\" # centrality seeding\n",
    "        seed = sortperm(degree_centrality(N.G), rev=true)[1:seed_size]\n",
    "        N.node_status[seed] = brand\n",
    "    else # expert seeding\n",
    "        if brand == 1\n",
    "            seed = sortperm(N.qA, rev=true)[1:seed_size]\n",
    "            N.node_status[seed] = brand\n",
    "        else\n",
    "            seed = sortperm(N.qB, rev=true)[1:seed_size]\n",
    "            N.node_status[seed] = brand\n",
    "        end\n",
    "    end\n",
    "    \n",
    "    return nothing\n",
    "end     "
   ]
  },
  {
   "cell_type": "code",
   "execution_count": 10,
   "metadata": {},
   "outputs": [
    {
     "data": {
      "text/plain": [
       "evolve! (generic function with 1 method)"
      ]
     },
     "execution_count": 10,
     "metadata": {},
     "output_type": "execute_result"
    }
   ],
   "source": [
    "function evolve!(N::Network)\n",
    "    for node in shuffle(vertices(N.G))\n",
    "        if N.node_status[node] == 0 # If not adopted\n",
    "            r = rand(Uniform())\n",
    "            pA, pB = adopt_prob(N, node)\n",
    "            \n",
    "            if r < pA\n",
    "                N.node_status[node] = 1\n",
    "            end\n",
    "            \n",
    "            if r < pB\n",
    "                N.node_status[node] = 2\n",
    "            end\n",
    "        end\n",
    "    end\n",
    "    \n",
    "    return nothing\n",
    "end"
   ]
  },
  {
   "cell_type": "code",
   "execution_count": 17,
   "metadata": {},
   "outputs": [
    {
     "data": {
      "text/plain": [
       "simulate (generic function with 1 method)"
      ]
     },
     "execution_count": 17,
     "metadata": {},
     "output_type": "execute_result"
    }
   ],
   "source": [
    "function simulate(n::Int, k::Int, p::Float64; T = 30, n_realizations = 20, sigma = 0.02)\n",
    "    parameter_space = [(deltaA, deltaB, qA, qB, seed_size) for deltaA in linspace(0.001, 0.02, 5),\n",
    "                                                               deltaB in linspace(0.001, 0.02, 5),\n",
    "                                                               qA in linspace(0.04, 0.16, 5),\n",
    "                                                               qB in linspace(0.04, 0.16, 5),\n",
    "                                                               seed_size in linspace(0.005, 0.05, 5)]\n",
    "    \n",
    "    output = DataFrame(r = Int[], t = Int[], seed_size = Float64[], \n",
    "                       deltaA = Float64[], deltaB = Float64[], \n",
    "                       qA = Float64[], qB = Float64[],\n",
    "                       engaged_randA = Int[], engaged_randB = Int[], \n",
    "                       engaged_hubA = Int[], engaged_hubB = Int[],\n",
    "                       engaged_expertA = Int[], engaged_expertB = Int[])\n",
    "    \n",
    "    \n",
    "    @showprogress 1 \"Simulating...\" for (deltaA, deltaB, qA, qB, seed_size) in parameter_space\n",
    "        for r in 1:n_realizations\n",
    "            g = watts_strogatz(n, k, p)\n",
    "            N = Network(g, zeros(Int, n), fill!(Vector{Float64}(n), deltaA), fill!(Vector{Float64}(n), deltaB),\n",
    "                        rand(TruncatedNormal(qA, sigma, 0, Inf), n), rand(TruncatedNormal(qB, sigma, 0, Inf), n))\n",
    "            \n",
    "            # randomly seeding for brand A and evolution\n",
    "            seed!(N, floor(Int, seed_size * n), 1, \"random\")\n",
    "            for t in 1:T\n",
    "                evolve!(N)\n",
    "                n_engaged = sum(N.node_status .!= 0)\n",
    "                push!(output, [r, t, seed_size, deltaA, deltaB, qA, qB, n_engaged, 0, 0, 0, 0, 0])\n",
    "            end\n",
    "            \n",
    "            reset!(N)\n",
    "            \n",
    "            # randomly seeding for brand B and evolution\n",
    "            seed!(N, floor(Int, seed_size * n), 2, \"random\")\n",
    "            for t in 1:T\n",
    "                evolve!(N)\n",
    "                n_engaged = sum(N.node_status .!= 0)\n",
    "                push!(output, [r, t, seed_size, deltaA, deltaB, qA, qB, 0, n_engaged, 0, 0, 0, 0])\n",
    "            end\n",
    "            \n",
    "            reset!(N)\n",
    "            \n",
    "            # seeding hubs for brand A and evolution\n",
    "            seed!(N, floor(Int, seed_size * n), 1, \"hub\")\n",
    "            for t in 1:T\n",
    "                evolve!(N)\n",
    "                n_engaged = sum(N.node_status .!= 0)\n",
    "                push!(output, [r, t, seed_size, deltaA, deltaB, qA, qB, 0, 0, n_engaged, 0, 0, 0])\n",
    "            end\n",
    "            \n",
    "            reset!(N)\n",
    "            \n",
    "            # seeding hubs for brand B and evolution\n",
    "            seed!(N, floor(Int, seed_size * n), 2, \"hub\")\n",
    "            for t in 1:T\n",
    "                evolve!(N)\n",
    "                n_engaged = sum(N.node_status .!= 0)\n",
    "                push!(output, [r, t, seed_size, deltaA, deltaB, qA, qB, 0, 0, 0, n_engaged, 0, 0])\n",
    "            end\n",
    "            \n",
    "            reset!(N)\n",
    "            \n",
    "            # seeding experts for brand A and evolution\n",
    "            seed!(N, floor(Int, seed_size * n), 1, \"expert\")\n",
    "            for t in 1:T\n",
    "                evolve!(N)\n",
    "                n_engaged = sum(N.node_status .!= 0)\n",
    "                push!(output, [r, t, seed_size, deltaA, deltaB, qA, qB, 0, 0, 0, 0, n_engaged, 0])\n",
    "            end\n",
    "            \n",
    "            reset!(N)\n",
    "            \n",
    "            # seeding experts for brand B and evolution\n",
    "            seed!(N, floor(Int, seed_size * n), 2, \"expert\")\n",
    "            for t in 1:T\n",
    "                evolve!(N)\n",
    "                n_engaged = sum(N.node_status .!= 0)\n",
    "                push!(output, [r, t, seed_size, deltaA, deltaB, qA, qB, 0, 0, 0, 0, 0, n_engaged])\n",
    "            end\n",
    "            \n",
    "        end\n",
    "        \n",
    "    end\n",
    "    \n",
    "    return output\n",
    "    \n",
    "end    "
   ]
  },
  {
   "cell_type": "code",
   "execution_count": null,
   "metadata": {},
   "outputs": [
    {
     "name": "stderr",
     "output_type": "stream",
     "text": [
      "\u001b[32mSimulating...  1%|                                      |  ETA: 0:18:38\u001b[39m"
     ]
    }
   ],
   "source": [
    "result = simulate(1000, 4, 0.5)"
   ]
  }
 ],
 "metadata": {
  "kernelspec": {
   "display_name": "Julia 0.6.2",
   "language": "julia",
   "name": "julia-0.6"
  },
  "language_info": {
   "file_extension": ".jl",
   "mimetype": "application/julia",
   "name": "julia",
   "version": "0.6.2"
  }
 },
 "nbformat": 4,
 "nbformat_minor": 2
}
