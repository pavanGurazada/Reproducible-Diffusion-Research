{
 "cells": [
  {
   "cell_type": "code",
   "execution_count": 2,
   "metadata": {},
   "outputs": [],
   "source": [
    "using Distributions, LightGraphs, DataFrames, RCall, ProgressMeter"
   ]
  },
  {
   "cell_type": "code",
   "execution_count": 3,
   "metadata": {},
   "outputs": [
    {
     "data": {
      "text/plain": [
       "MersenneTwister(UInt32[0x01332bfa], Base.dSFMT.DSFMT_state(Int32[-1772545288, 1073534108, 1077066014, 1072915095, -2146195133, 1072843413, 301764553, 1073404181, 750472136, 1073628106  …  -1491411563, 1073194977, 716119449, 1072893711, 1632331784, 758890923, 1433693833, -13012230, 382, 0]), [1.26294, 1.899, 1.73924, 1.65031, 1.16468, 1.08045, 1.90283, 1.04602, 1.5813, 1.89209  …  1.43725, 1.65819, 1.31951, 1.37285, 1.21427, 1.81925, 1.90415, 1.70235, 1.31837, 1.08371], 382)"
      ]
     },
     "execution_count": 3,
     "metadata": {},
     "output_type": "execute_result"
    }
   ],
   "source": [
    "srand(20130810)"
   ]
  },
  {
   "cell_type": "code",
   "execution_count": 4,
   "metadata": {},
   "outputs": [],
   "source": [
    "mutable struct Network\n",
    "    G::LightGraphs.SimpleGraphs.SimpleGraph{Int}\n",
    "    node_status::Vector{Int}\n",
    "    deltaA::Vector{Float64}\n",
    "    deltaB::Vector{Float64}\n",
    "    qA::Vector{Float64}\n",
    "    qB::Vector{Float64}\n",
    "end"
   ]
  },
  {
   "cell_type": "code",
   "execution_count": 5,
   "metadata": {},
   "outputs": [
    {
     "data": {
      "text/plain": [
       "reset! (generic function with 1 method)"
      ]
     },
     "execution_count": 5,
     "metadata": {},
     "output_type": "execute_result"
    }
   ],
   "source": [
    "function reset!(N::Network)\n",
    "    N.node_status = zeros(Int, nv(N.G))\n",
    "    return nothing\n",
    "end"
   ]
  },
  {
   "cell_type": "code",
   "execution_count": 6,
   "metadata": {},
   "outputs": [
    {
     "data": {
      "text/plain": [
       "active_nbrs (generic function with 1 method)"
      ]
     },
     "execution_count": 6,
     "metadata": {},
     "output_type": "execute_result"
    }
   ],
   "source": [
    "function active_nbrs(N::Network, node::Int, brand::Int)\n",
    "    n_active_nbrs = 0\n",
    "    \n",
    "    for nbr in neighbors(N.G, node)\n",
    "        if N.node_status[nbr] == brand\n",
    "            n_active_nbrs += 1\n",
    "        end\n",
    "    end\n",
    "    \n",
    "    return n_active_nbrs\n",
    "end"
   ]
  },
  {
   "cell_type": "code",
   "execution_count": 7,
   "metadata": {},
   "outputs": [
    {
     "data": {
      "text/plain": [
       "adopt_prob (generic function with 1 method)"
      ]
     },
     "execution_count": 7,
     "metadata": {},
     "output_type": "execute_result"
    }
   ],
   "source": [
    "function adopt_prob(N::Network, node::Int)\n",
    "    n_active_nbrsA = active_nbrs(N, node, 1)\n",
    "    n_active_nbrsB = active_nbrs(N, node, 2)\n",
    "    \n",
    "    pA_i = 1 - (1 - N.deltaA[node]) * ((1 - N.qA[node])^n_active_nbrsA)\n",
    "    pB_i = 1 - (1 - N.deltaB[node]) * ((1 - N.qB[node])^n_active_nbrsB)\n",
    "    alpha = pA_i/(pA_i+pB_i)\n",
    "    \n",
    "    pA = pA_i * (1 - pB_i) + alpha * pA_i * pB_i\n",
    "    pB = pB_i * (1 - pA_i) + (1 - alpha) * pA_i * pB_i \n",
    "\n",
    "    return pA, pB\n",
    "end"
   ]
  },
  {
   "cell_type": "code",
   "execution_count": 13,
   "metadata": {},
   "outputs": [
    {
     "data": {
      "text/plain": [
       "seed! (generic function with 2 methods)"
      ]
     },
     "execution_count": 13,
     "metadata": {},
     "output_type": "execute_result"
    }
   ],
   "source": [
    "function seed!(N::Network, seed_size::Int, brand::Int, mode::String)\n",
    "    if mode == \"random\" # random seeding\n",
    "        seed = sample(vertices(N.G), seed_size, replace=false)\n",
    "        N.node_status[seed] = brand\n",
    "    elseif mode == \"hub\" # centrality seeding\n",
    "        seed = sortperm(degree_centrality(N.G), rev=true)[1:seed_size]\n",
    "        N.node_status[seed] = brand\n",
    "    else # expert seeding\n",
    "        if brand == 1\n",
    "            seed = sortperm(N.qA, rev=true)[1:seed_size]\n",
    "            N.node_status[seed] = brand\n",
    "        else\n",
    "            seed = sortperm(N.qB, rev=true)[1:seed_size]\n",
    "            N.node_status[seed] = brand\n",
    "        end\n",
    "    end\n",
    "    \n",
    "    return nothing\n",
    "end     "
   ]
  },
  {
   "cell_type": "code",
   "execution_count": 10,
   "metadata": {},
   "outputs": [
    {
     "data": {
      "text/plain": [
       "evolve! (generic function with 1 method)"
      ]
     },
     "execution_count": 10,
     "metadata": {},
     "output_type": "execute_result"
    }
   ],
   "source": [
    "function evolve!(N::Network)\n",
    "    for node in shuffle(vertices(N.G))\n",
    "        if N.node_status[node] == 0 # If not adopted\n",
    "            r = rand(Uniform())\n",
    "            pA, pB = adopt_prob(N, node)\n",
    "            \n",
    "            if r < pA\n",
    "                N.node_status[node] = 1\n",
    "            end\n",
    "            \n",
    "            if r < pB\n",
    "                N.node_status[node] = 2\n",
    "            end\n",
    "        end\n",
    "    end\n",
    "    \n",
    "    return nothing\n",
    "end"
   ]
  },
  {
   "cell_type": "code",
   "execution_count": 17,
   "metadata": {},
   "outputs": [
    {
     "data": {
      "text/plain": [
       "simulate (generic function with 1 method)"
      ]
     },
     "execution_count": 17,
     "metadata": {},
     "output_type": "execute_result"
    }
   ],
   "source": [
    "function simulate(n::Int, k::Int, p::Float64; T = 30, n_realizations = 20, sigma = 0.02)\n",
    "    parameter_space = [(deltaA, deltaB, qA, qB, seed_size) for deltaA in linspace(0.001, 0.02, 5),\n",
    "                                                               deltaB in linspace(0.001, 0.02, 5),\n",
    "                                                               qA in linspace(0.04, 0.16, 5),\n",
    "                                                               qB in linspace(0.04, 0.16, 5),\n",
    "                                                               seed_size in linspace(0.005, 0.05, 5)]\n",
    "    \n",
    "    output = DataFrame(r = Int[], t = Int[], seed_size = Float64[], \n",
    "                       deltaA = Float64[], deltaB = Float64[], \n",
    "                       qA = Float64[], qB = Float64[],\n",
    "                       engaged_randA = Int[], engaged_randB = Int[], \n",
    "                       engaged_hubA = Int[], engaged_hubB = Int[],\n",
    "                       engaged_expertA = Int[], engaged_expertB = Int[])\n",
    "    \n",
    "    \n",
    "    @showprogress 1 \"Simulating...\" for (deltaA, deltaB, qA, qB, seed_size) in parameter_space\n",
    "        for r in 1:n_realizations\n",
    "            g = watts_strogatz(n, k, p)\n",
    "            N = Network(g, zeros(Int, n), fill!(Vector{Float64}(n), deltaA), fill!(Vector{Float64}(n), deltaB),\n",
    "                        rand(TruncatedNormal(qA, sigma, 0, Inf), n), rand(TruncatedNormal(qB, sigma, 0, Inf), n))\n",
    "            \n",
    "            # randomly seeding for brand A and evolution\n",
    "            seed!(N, floor(Int, seed_size * n), 1, \"random\")\n",
    "            for t in 1:T\n",
    "                evolve!(N)\n",
    "                n_engaged = sum(N.node_status .!= 0)\n",
    "                push!(output, [r, t, seed_size, deltaA, deltaB, qA, qB, n_engaged, 0, 0, 0, 0, 0])\n",
    "            end\n",
    "            \n",
    "            reset!(N)\n",
    "            \n",
    "            # randomly seeding for brand B and evolution\n",
    "            seed!(N, floor(Int, seed_size * n), 2, \"random\")\n",
    "            for t in 1:T\n",
    "                evolve!(N)\n",
    "                n_engaged = sum(N.node_status .!= 0)\n",
    "                push!(output, [r, t, seed_size, deltaA, deltaB, qA, qB, 0, n_engaged, 0, 0, 0, 0])\n",
    "            end\n",
    "            \n",
    "            reset!(N)\n",
    "            \n",
    "            # seeding hubs for brand A and evolution\n",
    "            seed!(N, floor(Int, seed_size * n), 1, \"hub\")\n",
    "            for t in 1:T\n",
    "                evolve!(N)\n",
    "                n_engaged = sum(N.node_status .!= 0)\n",
    "                push!(output, [r, t, seed_size, deltaA, deltaB, qA, qB, 0, 0, n_engaged, 0, 0, 0])\n",
    "            end\n",
    "            \n",
    "            reset!(N)\n",
    "            \n",
    "            # seeding hubs for brand B and evolution\n",
    "            seed!(N, floor(Int, seed_size * n), 2, \"hub\")\n",
    "            for t in 1:T\n",
    "                evolve!(N)\n",
    "                n_engaged = sum(N.node_status .!= 0)\n",
    "                push!(output, [r, t, seed_size, deltaA, deltaB, qA, qB, 0, 0, 0, n_engaged, 0, 0])\n",
    "            end\n",
    "            \n",
    "            reset!(N)\n",
    "            \n",
    "            # seeding experts for brand A and evolution\n",
    "            seed!(N, floor(Int, seed_size * n), 1, \"expert\")\n",
    "            for t in 1:T\n",
    "                evolve!(N)\n",
    "                n_engaged = sum(N.node_status .!= 0)\n",
    "                push!(output, [r, t, seed_size, deltaA, deltaB, qA, qB, 0, 0, 0, 0, n_engaged, 0])\n",
    "            end\n",
    "            \n",
    "            reset!(N)\n",
    "            \n",
    "            # seeding experts for brand B and evolution\n",
    "            seed!(N, floor(Int, seed_size * n), 2, \"expert\")\n",
    "            for t in 1:T\n",
    "                evolve!(N)\n",
    "                n_engaged = sum(N.node_status .!= 0)\n",
    "                push!(output, [r, t, seed_size, deltaA, deltaB, qA, qB, 0, 0, 0, 0, 0, n_engaged])\n",
    "            end\n",
    "            \n",
    "        end\n",
    "        \n",
    "    end\n",
    "    \n",
    "    return output\n",
    "    \n",
    "end    "
   ]
  },
  {
   "cell_type": "code",
   "execution_count": 18,
   "metadata": {},
   "outputs": [
    {
     "name": "stderr",
     "output_type": "stream",
     "text": [
      "\u001b[32mSimulating...100%|██████████████████████████████████████| Time: 0:12:04\u001b[39m\n"
     ]
    },
    {
     "data": {
      "text/html": [
       "<table class=\"data-frame\"><thead><tr><th></th><th>r</th><th>t</th><th>seed_size</th><th>deltaA</th><th>deltaB</th><th>qA</th><th>qB</th><th>engaged_randA</th><th>engaged_randB</th><th>engaged_hubA</th><th>engaged_hubB</th><th>engaged_expertA</th><th>engaged_expertB</th></tr></thead><tbody><tr><th>1</th><td>1</td><td>1</td><td>0.005</td><td>0.001</td><td>0.001</td><td>0.04</td><td>0.04</td><td>5</td><td>0</td><td>0</td><td>0</td><td>0</td><td>0</td></tr><tr><th>2</th><td>1</td><td>2</td><td>0.005</td><td>0.001</td><td>0.001</td><td>0.04</td><td>0.04</td><td>6</td><td>0</td><td>0</td><td>0</td><td>0</td><td>0</td></tr><tr><th>3</th><td>1</td><td>3</td><td>0.005</td><td>0.001</td><td>0.001</td><td>0.04</td><td>0.04</td><td>6</td><td>0</td><td>0</td><td>0</td><td>0</td><td>0</td></tr><tr><th>4</th><td>1</td><td>4</td><td>0.005</td><td>0.001</td><td>0.001</td><td>0.04</td><td>0.04</td><td>7</td><td>0</td><td>0</td><td>0</td><td>0</td><td>0</td></tr><tr><th>5</th><td>1</td><td>5</td><td>0.005</td><td>0.001</td><td>0.001</td><td>0.04</td><td>0.04</td><td>8</td><td>0</td><td>0</td><td>0</td><td>0</td><td>0</td></tr><tr><th>6</th><td>1</td><td>6</td><td>0.005</td><td>0.001</td><td>0.001</td><td>0.04</td><td>0.04</td><td>9</td><td>0</td><td>0</td><td>0</td><td>0</td><td>0</td></tr><tr><th>7</th><td>1</td><td>7</td><td>0.005</td><td>0.001</td><td>0.001</td><td>0.04</td><td>0.04</td><td>13</td><td>0</td><td>0</td><td>0</td><td>0</td><td>0</td></tr><tr><th>8</th><td>1</td><td>8</td><td>0.005</td><td>0.001</td><td>0.001</td><td>0.04</td><td>0.04</td><td>14</td><td>0</td><td>0</td><td>0</td><td>0</td><td>0</td></tr><tr><th>9</th><td>1</td><td>9</td><td>0.005</td><td>0.001</td><td>0.001</td><td>0.04</td><td>0.04</td><td>17</td><td>0</td><td>0</td><td>0</td><td>0</td><td>0</td></tr><tr><th>10</th><td>1</td><td>10</td><td>0.005</td><td>0.001</td><td>0.001</td><td>0.04</td><td>0.04</td><td>19</td><td>0</td><td>0</td><td>0</td><td>0</td><td>0</td></tr><tr><th>11</th><td>1</td><td>11</td><td>0.005</td><td>0.001</td><td>0.001</td><td>0.04</td><td>0.04</td><td>28</td><td>0</td><td>0</td><td>0</td><td>0</td><td>0</td></tr><tr><th>12</th><td>1</td><td>12</td><td>0.005</td><td>0.001</td><td>0.001</td><td>0.04</td><td>0.04</td><td>31</td><td>0</td><td>0</td><td>0</td><td>0</td><td>0</td></tr><tr><th>13</th><td>1</td><td>13</td><td>0.005</td><td>0.001</td><td>0.001</td><td>0.04</td><td>0.04</td><td>34</td><td>0</td><td>0</td><td>0</td><td>0</td><td>0</td></tr><tr><th>14</th><td>1</td><td>14</td><td>0.005</td><td>0.001</td><td>0.001</td><td>0.04</td><td>0.04</td><td>35</td><td>0</td><td>0</td><td>0</td><td>0</td><td>0</td></tr><tr><th>15</th><td>1</td><td>15</td><td>0.005</td><td>0.001</td><td>0.001</td><td>0.04</td><td>0.04</td><td>46</td><td>0</td><td>0</td><td>0</td><td>0</td><td>0</td></tr><tr><th>16</th><td>1</td><td>16</td><td>0.005</td><td>0.001</td><td>0.001</td><td>0.04</td><td>0.04</td><td>52</td><td>0</td><td>0</td><td>0</td><td>0</td><td>0</td></tr><tr><th>17</th><td>1</td><td>17</td><td>0.005</td><td>0.001</td><td>0.001</td><td>0.04</td><td>0.04</td><td>57</td><td>0</td><td>0</td><td>0</td><td>0</td><td>0</td></tr><tr><th>18</th><td>1</td><td>18</td><td>0.005</td><td>0.001</td><td>0.001</td><td>0.04</td><td>0.04</td><td>64</td><td>0</td><td>0</td><td>0</td><td>0</td><td>0</td></tr><tr><th>19</th><td>1</td><td>19</td><td>0.005</td><td>0.001</td><td>0.001</td><td>0.04</td><td>0.04</td><td>70</td><td>0</td><td>0</td><td>0</td><td>0</td><td>0</td></tr><tr><th>20</th><td>1</td><td>20</td><td>0.005</td><td>0.001</td><td>0.001</td><td>0.04</td><td>0.04</td><td>75</td><td>0</td><td>0</td><td>0</td><td>0</td><td>0</td></tr><tr><th>21</th><td>1</td><td>21</td><td>0.005</td><td>0.001</td><td>0.001</td><td>0.04</td><td>0.04</td><td>87</td><td>0</td><td>0</td><td>0</td><td>0</td><td>0</td></tr><tr><th>22</th><td>1</td><td>22</td><td>0.005</td><td>0.001</td><td>0.001</td><td>0.04</td><td>0.04</td><td>93</td><td>0</td><td>0</td><td>0</td><td>0</td><td>0</td></tr><tr><th>23</th><td>1</td><td>23</td><td>0.005</td><td>0.001</td><td>0.001</td><td>0.04</td><td>0.04</td><td>105</td><td>0</td><td>0</td><td>0</td><td>0</td><td>0</td></tr><tr><th>24</th><td>1</td><td>24</td><td>0.005</td><td>0.001</td><td>0.001</td><td>0.04</td><td>0.04</td><td>110</td><td>0</td><td>0</td><td>0</td><td>0</td><td>0</td></tr><tr><th>25</th><td>1</td><td>25</td><td>0.005</td><td>0.001</td><td>0.001</td><td>0.04</td><td>0.04</td><td>124</td><td>0</td><td>0</td><td>0</td><td>0</td><td>0</td></tr><tr><th>26</th><td>1</td><td>26</td><td>0.005</td><td>0.001</td><td>0.001</td><td>0.04</td><td>0.04</td><td>137</td><td>0</td><td>0</td><td>0</td><td>0</td><td>0</td></tr><tr><th>27</th><td>1</td><td>27</td><td>0.005</td><td>0.001</td><td>0.001</td><td>0.04</td><td>0.04</td><td>152</td><td>0</td><td>0</td><td>0</td><td>0</td><td>0</td></tr><tr><th>28</th><td>1</td><td>28</td><td>0.005</td><td>0.001</td><td>0.001</td><td>0.04</td><td>0.04</td><td>171</td><td>0</td><td>0</td><td>0</td><td>0</td><td>0</td></tr><tr><th>29</th><td>1</td><td>29</td><td>0.005</td><td>0.001</td><td>0.001</td><td>0.04</td><td>0.04</td><td>190</td><td>0</td><td>0</td><td>0</td><td>0</td><td>0</td></tr><tr><th>30</th><td>1</td><td>30</td><td>0.005</td><td>0.001</td><td>0.001</td><td>0.04</td><td>0.04</td><td>218</td><td>0</td><td>0</td><td>0</td><td>0</td><td>0</td></tr><tr><th>&vellip;</th><td>&vellip;</td><td>&vellip;</td><td>&vellip;</td><td>&vellip;</td><td>&vellip;</td><td>&vellip;</td><td>&vellip;</td><td>&vellip;</td><td>&vellip;</td><td>&vellip;</td><td>&vellip;</td><td>&vellip;</td><td>&vellip;</td></tr></tbody></table>"
      ],
      "text/plain": [
       "11250000×13 DataFrames.DataFrame\n",
       "│ Row      │ r  │ t  │ seed_size │ deltaA │ deltaB │ qA   │ qB   │\n",
       "├──────────┼────┼────┼───────────┼────────┼────────┼──────┼──────┤\n",
       "│ 1        │ 1  │ 1  │ 0.005     │ 0.001  │ 0.001  │ 0.04 │ 0.04 │\n",
       "│ 2        │ 1  │ 2  │ 0.005     │ 0.001  │ 0.001  │ 0.04 │ 0.04 │\n",
       "│ 3        │ 1  │ 3  │ 0.005     │ 0.001  │ 0.001  │ 0.04 │ 0.04 │\n",
       "│ 4        │ 1  │ 4  │ 0.005     │ 0.001  │ 0.001  │ 0.04 │ 0.04 │\n",
       "│ 5        │ 1  │ 5  │ 0.005     │ 0.001  │ 0.001  │ 0.04 │ 0.04 │\n",
       "│ 6        │ 1  │ 6  │ 0.005     │ 0.001  │ 0.001  │ 0.04 │ 0.04 │\n",
       "│ 7        │ 1  │ 7  │ 0.005     │ 0.001  │ 0.001  │ 0.04 │ 0.04 │\n",
       "│ 8        │ 1  │ 8  │ 0.005     │ 0.001  │ 0.001  │ 0.04 │ 0.04 │\n",
       "│ 9        │ 1  │ 9  │ 0.005     │ 0.001  │ 0.001  │ 0.04 │ 0.04 │\n",
       "│ 10       │ 1  │ 10 │ 0.005     │ 0.001  │ 0.001  │ 0.04 │ 0.04 │\n",
       "│ 11       │ 1  │ 11 │ 0.005     │ 0.001  │ 0.001  │ 0.04 │ 0.04 │\n",
       "⋮\n",
       "│ 11249989 │ 20 │ 19 │ 0.05      │ 0.02   │ 0.02   │ 0.16 │ 0.16 │\n",
       "│ 11249990 │ 20 │ 20 │ 0.05      │ 0.02   │ 0.02   │ 0.16 │ 0.16 │\n",
       "│ 11249991 │ 20 │ 21 │ 0.05      │ 0.02   │ 0.02   │ 0.16 │ 0.16 │\n",
       "│ 11249992 │ 20 │ 22 │ 0.05      │ 0.02   │ 0.02   │ 0.16 │ 0.16 │\n",
       "│ 11249993 │ 20 │ 23 │ 0.05      │ 0.02   │ 0.02   │ 0.16 │ 0.16 │\n",
       "│ 11249994 │ 20 │ 24 │ 0.05      │ 0.02   │ 0.02   │ 0.16 │ 0.16 │\n",
       "│ 11249995 │ 20 │ 25 │ 0.05      │ 0.02   │ 0.02   │ 0.16 │ 0.16 │\n",
       "│ 11249996 │ 20 │ 26 │ 0.05      │ 0.02   │ 0.02   │ 0.16 │ 0.16 │\n",
       "│ 11249997 │ 20 │ 27 │ 0.05      │ 0.02   │ 0.02   │ 0.16 │ 0.16 │\n",
       "│ 11249998 │ 20 │ 28 │ 0.05      │ 0.02   │ 0.02   │ 0.16 │ 0.16 │\n",
       "│ 11249999 │ 20 │ 29 │ 0.05      │ 0.02   │ 0.02   │ 0.16 │ 0.16 │\n",
       "│ 11250000 │ 20 │ 30 │ 0.05      │ 0.02   │ 0.02   │ 0.16 │ 0.16 │\n",
       "\n",
       "│ Row      │ engaged_randA │ engaged_randB │ engaged_hubA │ engaged_hubB │\n",
       "├──────────┼───────────────┼───────────────┼──────────────┼──────────────┤\n",
       "│ 1        │ 5             │ 0             │ 0            │ 0            │\n",
       "│ 2        │ 6             │ 0             │ 0            │ 0            │\n",
       "│ 3        │ 6             │ 0             │ 0            │ 0            │\n",
       "│ 4        │ 7             │ 0             │ 0            │ 0            │\n",
       "│ 5        │ 8             │ 0             │ 0            │ 0            │\n",
       "│ 6        │ 9             │ 0             │ 0            │ 0            │\n",
       "│ 7        │ 13            │ 0             │ 0            │ 0            │\n",
       "│ 8        │ 14            │ 0             │ 0            │ 0            │\n",
       "│ 9        │ 17            │ 0             │ 0            │ 0            │\n",
       "│ 10       │ 19            │ 0             │ 0            │ 0            │\n",
       "│ 11       │ 28            │ 0             │ 0            │ 0            │\n",
       "⋮\n",
       "│ 11249989 │ 0             │ 0             │ 0            │ 0            │\n",
       "│ 11249990 │ 0             │ 0             │ 0            │ 0            │\n",
       "│ 11249991 │ 0             │ 0             │ 0            │ 0            │\n",
       "│ 11249992 │ 0             │ 0             │ 0            │ 0            │\n",
       "│ 11249993 │ 0             │ 0             │ 0            │ 0            │\n",
       "│ 11249994 │ 0             │ 0             │ 0            │ 0            │\n",
       "│ 11249995 │ 0             │ 0             │ 0            │ 0            │\n",
       "│ 11249996 │ 0             │ 0             │ 0            │ 0            │\n",
       "│ 11249997 │ 0             │ 0             │ 0            │ 0            │\n",
       "│ 11249998 │ 0             │ 0             │ 0            │ 0            │\n",
       "│ 11249999 │ 0             │ 0             │ 0            │ 0            │\n",
       "│ 11250000 │ 0             │ 0             │ 0            │ 0            │\n",
       "\n",
       "│ Row      │ engaged_expertA │ engaged_expertB │\n",
       "├──────────┼─────────────────┼─────────────────┤\n",
       "│ 1        │ 0               │ 0               │\n",
       "│ 2        │ 0               │ 0               │\n",
       "│ 3        │ 0               │ 0               │\n",
       "│ 4        │ 0               │ 0               │\n",
       "│ 5        │ 0               │ 0               │\n",
       "│ 6        │ 0               │ 0               │\n",
       "│ 7        │ 0               │ 0               │\n",
       "│ 8        │ 0               │ 0               │\n",
       "│ 9        │ 0               │ 0               │\n",
       "│ 10       │ 0               │ 0               │\n",
       "│ 11       │ 0               │ 0               │\n",
       "⋮\n",
       "│ 11249989 │ 0               │ 999             │\n",
       "│ 11249990 │ 0               │ 999             │\n",
       "│ 11249991 │ 0               │ 999             │\n",
       "│ 11249992 │ 0               │ 999             │\n",
       "│ 11249993 │ 0               │ 1000            │\n",
       "│ 11249994 │ 0               │ 1000            │\n",
       "│ 11249995 │ 0               │ 1000            │\n",
       "│ 11249996 │ 0               │ 1000            │\n",
       "│ 11249997 │ 0               │ 1000            │\n",
       "│ 11249998 │ 0               │ 1000            │\n",
       "│ 11249999 │ 0               │ 1000            │\n",
       "│ 11250000 │ 0               │ 1000            │"
      ]
     },
     "execution_count": 18,
     "metadata": {},
     "output_type": "execute_result"
    }
   ],
   "source": [
    "result = simulate(1000, 4, 0.5)"
   ]
  },
  {
   "cell_type": "code",
   "execution_count": 21,
   "metadata": {},
   "outputs": [
    {
     "data": {
      "text/plain": [
       "(11250000, 13)"
      ]
     },
     "execution_count": 21,
     "metadata": {},
     "output_type": "execute_result"
    },
    {
     "name": "stderr",
     "output_type": "stream",
     "text": [
      "WARNING: both StatsBase and Compat export \"stderr\"; uses of it in module DataFrames must be qualified\n",
      "WARNING: both DataFrames and LightGraphs export \"weights\"; uses of it in module Main must be qualified\n"
     ]
    }
   ],
   "source": [
    "size(result)"
   ]
  },
  {
   "cell_type": "code",
   "execution_count": 22,
   "metadata": {
    "collapsed": true
   },
   "outputs": [],
   "source": [
    "writetable(\"value-WOM.csv\", result)"
   ]
  }
 ],
 "metadata": {
  "kernelspec": {
   "display_name": "Julia 0.6.2",
   "language": "julia",
   "name": "julia-0.6"
  },
  "language_info": {
   "file_extension": ".jl",
   "mimetype": "application/julia",
   "name": "julia",
   "version": "0.6.2"
  }
 },
 "nbformat": 4,
 "nbformat_minor": 2
}
