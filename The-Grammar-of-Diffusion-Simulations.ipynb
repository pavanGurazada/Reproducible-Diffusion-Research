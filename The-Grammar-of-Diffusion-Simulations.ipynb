{
 "cells": [
  {
   "cell_type": "code",
   "execution_count": 1,
   "metadata": {
    "collapsed": true
   },
   "outputs": [],
   "source": [
    "import Base: reset"
   ]
  },
  {
   "cell_type": "code",
   "execution_count": 3,
   "metadata": {},
   "outputs": [],
   "source": [
    "using Distributions, LightGraphs, ProgressMeter, RCall, DataFrames"
   ]
  },
  {
   "cell_type": "code",
   "execution_count": 4,
   "metadata": {},
   "outputs": [
    {
     "data": {
      "text/plain": [
       "MersenneTwister(UInt32[0x01332bfa], Base.dSFMT.DSFMT_state(Int32[-1772545288, 1073534108, 1077066014, 1072915095, -2146195133, 1072843413, 301764553, 1073404181, 750472136, 1073628106  …  -1491411563, 1073194977, 716119449, 1072893711, 1632331784, 758890923, 1433693833, -13012230, 382, 0]), [1.28888, 1.79849, 1.68405, 1.26859, 1.65914, 1.70252, 1.94879, 1.8945, 1.15592, 1.19896  …  1.39838, 1.90389, 1.3545, 1.71968, 1.50594, 1.89972, 1.85364, 1.09602, 1.84999, 1.76305], 382)"
      ]
     },
     "execution_count": 4,
     "metadata": {},
     "output_type": "execute_result"
    }
   ],
   "source": [
    "srand(20130810)"
   ]
  },
  {
   "cell_type": "markdown",
   "metadata": {},
   "source": [
    "The grammar is a set of simple building blocks that generalize any diffusion simulation. \n",
    "\n",
    " > `reset(N) -> seed(node_status, N, seed_fn, seed_size) -> \n",
    "            evolve(node_status, N, evolve_fn, ...) -> \n",
    "            sum(node_status)`  "
   ]
  },
  {
   "cell_type": "markdown",
   "metadata": {},
   "source": [
    "The data structure on which diffusion simulations are executed is a combination of the network connections between the nodes and their *immutable* properties. All of them are initialized together at the beginning of each realization and is not tampered with in the course of the simulation. This data structure might hold different parameters for different kinds of models, for e.g., it might hold thresholds or influence of neighbors or influence of advertising. We illustrate our design using a simple simulation involving thresholds.  "
   ]
  },
  {
   "cell_type": "code",
   "execution_count": 5,
   "metadata": {},
   "outputs": [],
   "source": [
    "struct Network\n",
    "    G::LightGraphs.SimpleGraphs.SimpleGraph{Int}\n",
    "    threshold::Vector{Float64}\n",
    "end"
   ]
  },
  {
   "cell_type": "markdown",
   "metadata": {},
   "source": [
    "### 1. Initialization\n",
    "\n",
    "The starting point of any diffusion simulation is the `reset` function that takes a network object and sets the status of all the nodes in the network to `false`. The output is a BitVector."
   ]
  },
  {
   "cell_type": "code",
   "execution_count": 6,
   "metadata": {},
   "outputs": [
    {
     "data": {
      "text/plain": [
       "reset (generic function with 4 methods)"
      ]
     },
     "execution_count": 6,
     "metadata": {},
     "output_type": "execute_result"
    }
   ],
   "source": [
    "function reset(N::Network)\n",
    "    return falses(nv(N.G))\n",
    "end"
   ]
  },
  {
   "cell_type": "markdown",
   "metadata": {},
   "source": [
    "### 2. Seeding\n",
    "\n",
    "The next step is to seed a subset of the network using a seeding function that dictates which specific nodes should be targeted. This mutates the state of the `node_status` vector in place. A purer version of this function would initialize a new vector that is the copy of `node_status`, update this vector and return a copy of the new vector. Let us define these two versions and check if there are any speed differences between the versions."
   ]
  },
  {
   "cell_type": "code",
   "execution_count": 7,
   "metadata": {},
   "outputs": [
    {
     "data": {
      "text/plain": [
       "seed! (generic function with 1 method)"
      ]
     },
     "execution_count": 7,
     "metadata": {},
     "output_type": "execute_result"
    }
   ],
   "source": [
    "function seed!(node_status::BitVector, \n",
    "               N::Network,\n",
    "               seed_fn::Function,\n",
    "               seed_size::Int)\n",
    "    \n",
    "    seed = seed_fn(N, seed_size) # should return a vector of indices\n",
    "    node_status[seed] = true\n",
    "    \n",
    "end"
   ]
  },
  {
   "cell_type": "code",
   "execution_count": 8,
   "metadata": {},
   "outputs": [
    {
     "data": {
      "text/plain": [
       "seed (generic function with 1 method)"
      ]
     },
     "execution_count": 8,
     "metadata": {},
     "output_type": "execute_result"
    }
   ],
   "source": [
    "function seed(node_status::BitVector,\n",
    "              N::Network,\n",
    "              seed_fn::Function,\n",
    "              seed_size::Int)\n",
    "    \n",
    "    new_status = copy(node_status)\n",
    "    seed = seed_fn(N, seed_size) # should return a vector of indices\n",
    "    new_status[seed] = true\n",
    "    \n",
    "    return new_status\n",
    "end"
   ]
  },
  {
   "cell_type": "markdown",
   "metadata": {},
   "source": [
    "We illustrate the working of these functions and measure the timing using two examples. "
   ]
  },
  {
   "cell_type": "markdown",
   "metadata": {},
   "source": [
    "#### 2.1 Random seeding"
   ]
  },
  {
   "cell_type": "code",
   "execution_count": 10,
   "metadata": {},
   "outputs": [
    {
     "data": {
      "text/plain": [
       "seed_random (generic function with 1 method)"
      ]
     },
     "execution_count": 10,
     "metadata": {},
     "output_type": "execute_result"
    }
   ],
   "source": [
    "function seed_random(N::Network, seed_size::Int)\n",
    "    return sample(vertices(N.G), seed_size, replace = false)\n",
    "end"
   ]
  },
  {
   "cell_type": "code",
   "execution_count": 11,
   "metadata": {},
   "outputs": [
    {
     "data": {
      "text/plain": [
       "Network({10000, 10000} undirected simple Int64 graph, [0.134108, 0.0825621, 0.0878909, 0.0702239, 0.0238482, 0.00894452, 0.172579, 0.125979, 0.182814, 0.157071  …  0.0427552, 0.0175289, 0.0965888, 0.098674, 0.134587, 0.15765, 0.0636996, 0.140167, 0.0750944, 0.117351])"
      ]
     },
     "execution_count": 11,
     "metadata": {},
     "output_type": "execute_result"
    }
   ],
   "source": [
    "N = Network(watts_strogatz(10^4, 3, 0.5), rand(TruncatedNormal(0.1, 0.05, 0, Inf), 10^4))"
   ]
  },
  {
   "cell_type": "code",
   "execution_count": 15,
   "metadata": {},
   "outputs": [],
   "source": [
    "node_status = reset(N);"
   ]
  },
  {
   "cell_type": "code",
   "execution_count": 16,
   "metadata": {},
   "outputs": [
    {
     "name": "stdout",
     "output_type": "stream",
     "text": [
      "  0.000103 seconds (12 allocations: 86.656 KiB)\n"
     ]
    },
    {
     "data": {
      "text/html": [
       "true"
      ],
      "text/plain": [
       "true"
      ]
     },
     "execution_count": 16,
     "metadata": {},
     "output_type": "execute_result"
    }
   ],
   "source": [
    "@time seed!(node_status, N, seed_random, 1000)"
   ]
  },
  {
   "cell_type": "code",
   "execution_count": 17,
   "metadata": {},
   "outputs": [
    {
     "data": {
      "text/html": [
       "1000"
      ],
      "text/plain": [
       "1000"
      ]
     },
     "execution_count": 17,
     "metadata": {},
     "output_type": "execute_result"
    }
   ],
   "source": [
    "sum(node_status)"
   ]
  },
  {
   "cell_type": "code",
   "execution_count": 20,
   "metadata": {
    "collapsed": true
   },
   "outputs": [],
   "source": [
    "node_status = reset(N);"
   ]
  },
  {
   "cell_type": "code",
   "execution_count": 21,
   "metadata": {},
   "outputs": [
    {
     "name": "stdout",
     "output_type": "stream",
     "text": [
      "  0.000128 seconds (16 allocations: 88.047 KiB)\n"
     ]
    }
   ],
   "source": [
    "@time node_status = seed(node_status, N, seed_random, 1000);"
   ]
  },
  {
   "cell_type": "code",
   "execution_count": 22,
   "metadata": {},
   "outputs": [
    {
     "data": {
      "text/html": [
       "1000"
      ],
      "text/plain": [
       "1000"
      ]
     },
     "execution_count": 22,
     "metadata": {},
     "output_type": "execute_result"
    }
   ],
   "source": [
    "sum(node_status)"
   ]
  },
  {
   "cell_type": "markdown",
   "metadata": {},
   "source": [
    "#### 2.2 Seeding the nodes with highest pagerank centrality "
   ]
  },
  {
   "cell_type": "code",
   "execution_count": 23,
   "metadata": {},
   "outputs": [
    {
     "data": {
      "text/plain": [
       "seed_pagerank (generic function with 1 method)"
      ]
     },
     "execution_count": 23,
     "metadata": {},
     "output_type": "execute_result"
    }
   ],
   "source": [
    "function seed_pagerank(N::Network, seed_size::Int)\n",
    "    return sortperm(pagerank(N.G))[1:seed_size]\n",
    "end"
   ]
  },
  {
   "cell_type": "code",
   "execution_count": 26,
   "metadata": {},
   "outputs": [
    {
     "name": "stdout",
     "output_type": "stream",
     "text": [
      "  0.014033 seconds (22 allocations: 321.188 KiB)\n"
     ]
    },
    {
     "data": {
      "text/html": [
       "1000"
      ],
      "text/plain": [
       "1000"
      ]
     },
     "execution_count": 26,
     "metadata": {},
     "output_type": "execute_result"
    }
   ],
   "source": [
    "node_status = reset(N)\n",
    "@time seed!(node_status, N, seed_pagerank, 1000)\n",
    "sum(node_status)"
   ]
  },
  {
   "cell_type": "code",
   "execution_count": 28,
   "metadata": {},
   "outputs": [
    {
     "name": "stdout",
     "output_type": "stream",
     "text": [
      "  0.013827 seconds (26 allocations: 322.578 KiB)\n"
     ]
    },
    {
     "data": {
      "text/html": [
       "1000"
      ],
      "text/plain": [
       "1000"
      ]
     },
     "execution_count": 28,
     "metadata": {},
     "output_type": "execute_result"
    }
   ],
   "source": [
    "node_status = reset(N)\n",
    "@time node_status = seed(node_status, N, seed_pagerank, 1000)\n",
    "sum(node_status)"
   ]
  },
  {
   "cell_type": "markdown",
   "metadata": {},
   "source": [
    "This shows an interesting pattern when the bottleneck is shifted to the seeder algorithm. The more complex the seeding algorithm, lesser is the difference in speed between mutating and non-mutating updates."
   ]
  },
  {
   "cell_type": "markdown",
   "metadata": {},
   "source": [
    "By keeping the `seeder` function is independent of the `seed` function, we can quickly compare the relative benefits of the diffusion process across seeding methods."
   ]
  },
  {
   "cell_type": "markdown",
   "metadata": {},
   "source": [
    "### 3. Evolution"
   ]
  },
  {
   "cell_type": "markdown",
   "metadata": {},
   "source": [
    "Different simulation design will employ different kinds of rules for node behavior. These rules are encoded into the `evolve_fn`. The `evolve_fn` function might be passed additional variables from its calller to support the evolution logic."
   ]
  },
  {
   "cell_type": "code",
   "execution_count": 29,
   "metadata": {},
   "outputs": [
    {
     "data": {
      "text/plain": [
       "evolve! (generic function with 1 method)"
      ]
     },
     "execution_count": 29,
     "metadata": {},
     "output_type": "execute_result"
    }
   ],
   "source": [
    "function evolve!(node_status::BitVector, \n",
    "                 N::Network,\n",
    "                 evolve_fn::Function)\n",
    "    \n",
    "   for node in shuffle(vertices(N.G)) # by default nodes are updated in random order\n",
    "        if node_status[node] == false\n",
    "            evolve_fn(node_status, N, node)\n",
    "        end\n",
    "    end\n",
    "end"
   ]
  },
  {
   "cell_type": "markdown",
   "metadata": {},
   "source": [
    "This higher level abstraction allows us to specify the evolution separate from the mechanics of evolving the diffusion process. The type and number of inputs to the evolver function can change depending on the complexity of the evolution rule."
   ]
  },
  {
   "cell_type": "markdown",
   "metadata": {},
   "source": [
    "We illustrate how the evolution works using a few example functions."
   ]
  },
  {
   "cell_type": "code",
   "execution_count": 30,
   "metadata": {},
   "outputs": [
    {
     "data": {
      "text/plain": [
       "evolve_threshold! (generic function with 1 method)"
      ]
     },
     "execution_count": 30,
     "metadata": {},
     "output_type": "execute_result"
    }
   ],
   "source": [
    "function evolve_threshold!(node_status::BitVector, N::Network, node::Int)\n",
    "    \n",
    "    n_engaged_nbrs = sum([node_status[nbr] for nbr in neighbors(N.G, node)])\n",
    "    \n",
    "    if n_engaged_nbrs/nv(N.G) > N.threshold[node] \n",
    "        node_status[node] = true\n",
    "    end\n",
    "end"
   ]
  },
  {
   "cell_type": "code",
   "execution_count": 32,
   "metadata": {},
   "outputs": [
    {
     "name": "stdout",
     "output_type": "stream",
     "text": [
      "  0.002923 seconds (27.01 k allocations: 1.312 MiB)\n"
     ]
    }
   ],
   "source": [
    "@time evolve!(node_status, N, evolve_threshold!)"
   ]
  },
  {
   "cell_type": "markdown",
   "metadata": {},
   "source": [
    "The `evolve` function is typically called multiple times in a typical simulation design."
   ]
  },
  {
   "cell_type": "markdown",
   "metadata": {},
   "source": [
    "### 4. Executing the simulation\n",
    "\n",
    "The vocabulary of functions defined above is called several times from the function `simulate` that is incharge of putting together the parameter space required to execute the simulations. The function should collect the results into a relational database.\n",
    "\n",
    "As an example illustrating the entire process, we illustrate the simulation of the following problem:\n",
    "\n",
    "*Given a network, seeding individuals with high pagerank provides more bang for the buck compared to random seeding*\n",
    "\n"
   ]
  },
  {
   "cell_type": "markdown",
   "metadata": {},
   "source": [
    "Let us consider Watts-Strogatz networks with $10,000$ nodes and with each individual having an average degree of $1 - 10$. The threshold for each node can vary from $0.05 - 0.3$ (but we assume that everyone has the same threshold). We consider ten values of threshold in between these values."
   ]
  },
  {
   "cell_type": "code",
   "execution_count": 35,
   "metadata": {},
   "outputs": [
    {
     "data": {
      "text/plain": [
       "simulate (generic function with 1 method)"
      ]
     },
     "execution_count": 35,
     "metadata": {},
     "output_type": "execute_result"
    }
   ],
   "source": [
    "function simulate(n::Int, p::Float64; T = 30, n_realizations = 20)\n",
    "    parameter_space = [(k, phi) for k in 1:10, \n",
    "                                    phi in linspace(0.05, 0.3, 10)]\n",
    "    \n",
    "    output = DataFrame(r = Int[], k = Int[], phi = Float64[], engaged_random = Int[], engaged_pagerank = Int[])\n",
    "    \n",
    "    for (k, phi) in parameter_space\n",
    "        @showprogress 1 \"Simulating...\" for r in 1:n_realizations\n",
    "            N = Network(watts_strogatz(n, k, p), fill(phi, n))\n",
    "            \n",
    "            # Begin the diffusion process starting with a random seed\n",
    "            \n",
    "            node_status = reset(N)\n",
    "            \n",
    "            seed!(node_status, N, seed_random, 1) # start with a single random seed\n",
    "            \n",
    "            for t = 1:T\n",
    "                evolve!(node_status, N, evolve_threshold!)\n",
    "            end\n",
    "            \n",
    "            n_engaged_rand = sum(node_status)\n",
    "            \n",
    "            # Begin the diffusion process starting with purposive seeding\n",
    "            \n",
    "            node_status = reset(N)\n",
    "            \n",
    "            seed!(node_status, N, seed_pagerank, 1)\n",
    "            \n",
    "            for t = 1:T\n",
    "                evolve!(node_status, N, evolve_threshold!)\n",
    "            end\n",
    "            \n",
    "            n_engaged_pagerank = sum(node_status)\n",
    "            \n",
    "            push!(output, [r, k, phi, n_engaged_rand, n_engaged_pagerank])\n",
    "            \n",
    "        end\n",
    "    end\n",
    "    \n",
    "    return output\n",
    "    \n",
    "end"
   ]
  },
  {
   "cell_type": "code",
   "execution_count": null,
   "metadata": {},
   "outputs": [
    {
     "name": "stderr",
     "output_type": "stream",
     "text": [
      "\u001b[32mSimulating...100%|██████████████████████████████████████| Time: 0:00:02\u001b[39m\n",
      "\u001b[32mSimulating...100%|██████████████████████████████████████| Time: 0:00:02\u001b[39m\n",
      "\u001b[32mSimulating...100%|██████████████████████████████████████| Time: 0:00:02\u001b[39m\n",
      "\u001b[32mSimulating...100%|██████████████████████████████████████| Time: 0:00:03\u001b[39m\n",
      "\u001b[32mSimulating...100%|██████████████████████████████████████| Time: 0:00:03\u001b[39m\n",
      "\u001b[32mSimulating...100%|██████████████████████████████████████| Time: 0:00:04\u001b[39m\n",
      "\u001b[32mSimulating...100%|██████████████████████████████████████| Time: 0:00:04\u001b[39m\n",
      "\u001b[32mSimulating...100%|██████████████████████████████████████| Time: 0:00:04\u001b[39m\n",
      "\u001b[32mSimulating...100%|██████████████████████████████████████| Time: 0:00:04\u001b[39m\n",
      "\u001b[32mSimulating...100%|██████████████████████████████████████| Time: 0:00:04\u001b[39m\n",
      "\u001b[32mSimulating...100%|██████████████████████████████████████| Time: 0:00:02\u001b[39m\n"
     ]
    }
   ],
   "source": [
    "results = simulate(10^4, 0.5)"
   ]
  },
  {
   "cell_type": "code",
   "execution_count": null,
   "metadata": {
    "collapsed": true
   },
   "outputs": [],
   "source": []
  }
 ],
 "metadata": {
  "kernelspec": {
   "display_name": "Julia 0.6.2",
   "language": "julia",
   "name": "julia-0.6"
  },
  "language_info": {
   "file_extension": ".jl",
   "mimetype": "application/julia",
   "name": "julia",
   "version": "0.6.2"
  }
 },
 "nbformat": 4,
 "nbformat_minor": 2
}
