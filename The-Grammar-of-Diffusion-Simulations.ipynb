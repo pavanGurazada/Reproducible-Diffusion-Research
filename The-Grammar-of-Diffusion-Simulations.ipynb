{
 "cells": [
  {
   "cell_type": "code",
   "execution_count": 1,
   "metadata": {
    "collapsed": true
   },
   "outputs": [],
   "source": [
    "import Base: reset"
   ]
  },
  {
   "cell_type": "code",
   "execution_count": 3,
   "metadata": {},
   "outputs": [],
   "source": [
    "using Distributions, LightGraphs, ProgressMeter, RCall, DataFrames"
   ]
  },
  {
   "cell_type": "code",
   "execution_count": 4,
   "metadata": {},
   "outputs": [
    {
     "data": {
      "text/plain": [
       "MersenneTwister(UInt32[0x01332bfa], Base.dSFMT.DSFMT_state(Int32[-1772545288, 1073534108, 1077066014, 1072915095, -2146195133, 1072843413, 301764553, 1073404181, 750472136, 1073628106  …  -1491411563, 1073194977, 716119449, 1072893711, 1632331784, 758890923, 1433693833, -13012230, 382, 0]), [1.93472, 1.86877, 1.88112, 1.97201, 1.10737, 1.73105, 1.41204, 1.64686, 1.43909, 1.25583  …  1.36119, 1.19399, 1.48701, 1.16545, 1.73937, 1.94828, 1.00127, 1.94829, 1.7496, 1.95903], 382)"
      ]
     },
     "execution_count": 4,
     "metadata": {},
     "output_type": "execute_result"
    }
   ],
   "source": [
    "srand(20130810)"
   ]
  },
  {
   "cell_type": "markdown",
   "metadata": {},
   "source": [
    "The grammar is a set of simple building blocks that generalize any diffusion simulation. \n",
    "\n",
    " > `reset(N) -> seed(node_status, N, seed_fn, seed_size) -> \n",
    "            evolve(node_status, N, evolve_fn, ...) -> \n",
    "            sum(node_status)`  "
   ]
  },
  {
   "cell_type": "markdown",
   "metadata": {},
   "source": [
    "The data structure on which diffusion simulations are executed is a combination of the network connections between the nodes and their *immutable* properties. All of them are initialized together at the beginning of each realization and is not tampered with in the course of the simulation. This data structure might hold different parameters for different kinds of models, for e.g., it might hold thresholds or influence of neighbors or influence of advertising. We illustrate our design using a simple simulation involving thresholds.  "
   ]
  },
  {
   "cell_type": "code",
   "execution_count": 5,
   "metadata": {},
   "outputs": [],
   "source": [
    "struct Network\n",
    "    G::LightGraphs.SimpleGraphs.SimpleGraph{Int}\n",
    "    threshold::Vector{Float64}\n",
    "end"
   ]
  },
  {
   "cell_type": "markdown",
   "metadata": {},
   "source": [
    "### 1. Initialization\n",
    "\n",
    "The starting point of any diffusion simulation is the `reset` function that takes a network object and sets the status of all the nodes in the network to `false`. The output is a BitVector."
   ]
  },
  {
   "cell_type": "code",
   "execution_count": 6,
   "metadata": {},
   "outputs": [
    {
     "data": {
      "text/plain": [
       "reset (generic function with 4 methods)"
      ]
     },
     "execution_count": 6,
     "metadata": {},
     "output_type": "execute_result"
    }
   ],
   "source": [
    "function reset(N::Network)\n",
    "    return falses(nv(N.G))\n",
    "end"
   ]
  },
  {
   "cell_type": "markdown",
   "metadata": {},
   "source": [
    "### 2. Seeding\n",
    "\n",
    "The next step is to seed a subset of the network using a seeding function that dictates which specific nodes should be targeted. This mutates the state of the `node_status` vector in place. A purer version of this function would initialize a new vector that is the copy of `node_status`, update this vector and return a copy of the new vector. Let us define these two versions and check if there are any speed differences between the versions."
   ]
  },
  {
   "cell_type": "code",
   "execution_count": 7,
   "metadata": {},
   "outputs": [
    {
     "data": {
      "text/plain": [
       "seed! (generic function with 1 method)"
      ]
     },
     "execution_count": 7,
     "metadata": {},
     "output_type": "execute_result"
    }
   ],
   "source": [
    "function seed!(node_status::BitVector, \n",
    "               N::Network,\n",
    "               seed_fn::Function,\n",
    "               seed_size::Int)\n",
    "    \n",
    "    seed = seed_fn(N, seed_size) # should return a vector of indices\n",
    "    node_status[seed] = true\n",
    "    \n",
    "end"
   ]
  },
  {
   "cell_type": "code",
   "execution_count": 8,
   "metadata": {},
   "outputs": [
    {
     "data": {
      "text/plain": [
       "seed (generic function with 1 method)"
      ]
     },
     "execution_count": 8,
     "metadata": {},
     "output_type": "execute_result"
    }
   ],
   "source": [
    "function seed(node_status::BitVector,\n",
    "              N::Network,\n",
    "              seed_fn::Function,\n",
    "              seed_size::Int)\n",
    "    \n",
    "    new_status = copy(node_status)\n",
    "    seed = seed_fn(N, seed_size) # should return a vector of indices\n",
    "    new_status[seed] = true\n",
    "    \n",
    "    return new_status\n",
    "end"
   ]
  },
  {
   "cell_type": "markdown",
   "metadata": {},
   "source": [
    "We illustrate the working of these functions and measure the timing using two example. "
   ]
  },
  {
   "cell_type": "markdown",
   "metadata": {},
   "source": [
    "#### 2.1 Random seeding"
   ]
  },
  {
   "cell_type": "code",
   "execution_count": 9,
   "metadata": {},
   "outputs": [
    {
     "data": {
      "text/plain": [
       "seed_random (generic function with 1 method)"
      ]
     },
     "execution_count": 9,
     "metadata": {},
     "output_type": "execute_result"
    }
   ],
   "source": [
    "function seed_random(N::Network, seed_size::Int)\n",
    "    return sample(vertices(N.G), seed_size, replace = false)\n",
    "end"
   ]
  },
  {
   "cell_type": "code",
   "execution_count": 10,
   "metadata": {},
   "outputs": [
    {
     "data": {
      "text/plain": [
       "Network({10000, 10000} undirected simple Int64 graph, [0.134108, 0.0825621, 0.0878909, 0.0702239, 0.0238482, 0.00894452, 0.172579, 0.125979, 0.182814, 0.157071  …  0.0427552, 0.0175289, 0.0965888, 0.098674, 0.134587, 0.15765, 0.0636996, 0.140167, 0.0750944, 0.117351])"
      ]
     },
     "execution_count": 10,
     "metadata": {},
     "output_type": "execute_result"
    }
   ],
   "source": [
    "N = Network(watts_strogatz(10^4, 3, 0.5), rand(TruncatedNormal(0.1, 0.05, 0, Inf), 10^4))"
   ]
  },
  {
   "cell_type": "code",
   "execution_count": 15,
   "metadata": {},
   "outputs": [],
   "source": [
    "node_status = reset(N);"
   ]
  },
  {
   "cell_type": "code",
   "execution_count": 16,
   "metadata": {},
   "outputs": [
    {
     "name": "stdout",
     "output_type": "stream",
     "text": [
      "  0.000102 seconds (12 allocations: 86.656 KiB)\n"
     ]
    },
    {
     "data": {
      "text/html": [
       "true"
      ],
      "text/plain": [
       "true"
      ]
     },
     "execution_count": 16,
     "metadata": {},
     "output_type": "execute_result"
    }
   ],
   "source": [
    "@time seed!(node_status, N, seed_random, 1000)"
   ]
  },
  {
   "cell_type": "code",
   "execution_count": 17,
   "metadata": {},
   "outputs": [
    {
     "data": {
      "text/html": [
       "1000"
      ],
      "text/plain": [
       "1000"
      ]
     },
     "execution_count": 17,
     "metadata": {},
     "output_type": "execute_result"
    }
   ],
   "source": [
    "sum(node_status)"
   ]
  },
  {
   "cell_type": "code",
   "execution_count": 18,
   "metadata": {
    "collapsed": true
   },
   "outputs": [],
   "source": [
    "node_status = reset(N);"
   ]
  },
  {
   "cell_type": "code",
   "execution_count": 21,
   "metadata": {},
   "outputs": [
    {
     "name": "stdout",
     "output_type": "stream",
     "text": [
      "  0.000121 seconds (16 allocations: 88.047 KiB)\n"
     ]
    }
   ],
   "source": [
    "@time node_status = seed(node_status, N, seed_random, 1000);"
   ]
  },
  {
   "cell_type": "code",
   "execution_count": 20,
   "metadata": {},
   "outputs": [
    {
     "data": {
      "text/html": [
       "1000"
      ],
      "text/plain": [
       "1000"
      ]
     },
     "execution_count": 20,
     "metadata": {},
     "output_type": "execute_result"
    }
   ],
   "source": [
    "sum(node_status)"
   ]
  },
  {
   "cell_type": "markdown",
   "metadata": {},
   "source": [
    "#### 2.2 Seeding the nodes with highest pagerank centrality "
   ]
  },
  {
   "cell_type": "code",
   "execution_count": 22,
   "metadata": {},
   "outputs": [
    {
     "data": {
      "text/plain": [
       "seed_pagerank (generic function with 1 method)"
      ]
     },
     "execution_count": 22,
     "metadata": {},
     "output_type": "execute_result"
    }
   ],
   "source": [
    "function seed_pagerank(N::Network, seed_size::Int)\n",
    "    return sortperm(pagerank(N.G))[1:seed_size]\n",
    "end"
   ]
  },
  {
   "cell_type": "code",
   "execution_count": 24,
   "metadata": {},
   "outputs": [
    {
     "name": "stdout",
     "output_type": "stream",
     "text": [
      "  0.014962 seconds (22 allocations: 321.188 KiB)\n"
     ]
    },
    {
     "data": {
      "text/html": [
       "1000"
      ],
      "text/plain": [
       "1000"
      ]
     },
     "execution_count": 24,
     "metadata": {},
     "output_type": "execute_result"
    }
   ],
   "source": [
    "node_status = reset(N)\n",
    "@time seed!(node_status, N, seed_pagerank, 1000)\n",
    "sum(node_status)"
   ]
  },
  {
   "cell_type": "code",
   "execution_count": 26,
   "metadata": {},
   "outputs": [
    {
     "name": "stdout",
     "output_type": "stream",
     "text": [
      "  0.013321 seconds (26 allocations: 322.578 KiB)\n"
     ]
    },
    {
     "data": {
      "text/html": [
       "1000"
      ],
      "text/plain": [
       "1000"
      ]
     },
     "execution_count": 26,
     "metadata": {},
     "output_type": "execute_result"
    }
   ],
   "source": [
    "node_status = reset(N)\n",
    "@time node_status = seed(node_status, N, seed_pagerank, 1000)\n",
    "sum(node_status)"
   ]
  },
  {
   "cell_type": "markdown",
   "metadata": {},
   "source": [
    "This shows an interesting pattern when the bottleneck is shifted to the seeder algorithm. The more complex the seeding algorithm, lesser is the difference in speed between mutating and non-mutating updates."
   ]
  },
  {
   "cell_type": "markdown",
   "metadata": {},
   "source": [
    "By keeping the `seeder` function is independent of the `seed` function, we can quickly compare the relative benefits of the diffusion process across seeding methods."
   ]
  },
  {
   "cell_type": "markdown",
   "metadata": {},
   "source": [
    "### 3. Evolution"
   ]
  },
  {
   "cell_type": "markdown",
   "metadata": {},
   "source": [
    "Different simulation design will employ different kinds of rules for node behavior. These rules are encoded into the `evolve_fn`. The `evolve_fn` function might be passed additional variables from its calller to support the evolution logic."
   ]
  },
  {
   "cell_type": "code",
   "execution_count": 27,
   "metadata": {},
   "outputs": [
    {
     "data": {
      "text/plain": [
       "evolve! (generic function with 1 method)"
      ]
     },
     "execution_count": 27,
     "metadata": {},
     "output_type": "execute_result"
    }
   ],
   "source": [
    "function evolve!(node_status::BitVector, \n",
    "                 N::Network,\n",
    "                 evolve_fn::Function)\n",
    "    \n",
    "   for node in shuffle(vertices(N.G)) # by default nodes are updated in random order\n",
    "        if node_status[node] == false\n",
    "            evolve_fn(node_status, N, node)\n",
    "        end\n",
    "    end\n",
    "end"
   ]
  },
  {
   "cell_type": "markdown",
   "metadata": {},
   "source": [
    "This higher level abstraction allows us to specify the evolution separate from the mechanics of evolving the diffusion process. The type and number of inputs to the evolver function can change depending on the complexity of the evolution rule."
   ]
  },
  {
   "cell_type": "markdown",
   "metadata": {},
   "source": [
    "We illustrate how the evolution works using a few example functions."
   ]
  },
  {
   "cell_type": "code",
   "execution_count": 28,
   "metadata": {},
   "outputs": [
    {
     "data": {
      "text/plain": [
       "evolve_threshold! (generic function with 1 method)"
      ]
     },
     "execution_count": 28,
     "metadata": {},
     "output_type": "execute_result"
    }
   ],
   "source": [
    "function evolve_threshold!(node_status::BitVector, N::Network, node::Int)\n",
    "    \n",
    "    n_engaged_nbrs = sum([node_status[nbr] for nbr in neighbors(N.G, node)])\n",
    "    \n",
    "    if n_engaged_nbrs/nv(N.G) > N.threshold[node] \n",
    "        node_status[node] = true\n",
    "    end\n",
    "end"
   ]
  },
  {
   "cell_type": "code",
   "execution_count": 30,
   "metadata": {},
   "outputs": [
    {
     "name": "stdout",
     "output_type": "stream",
     "text": [
      "  0.003739 seconds (27.01 k allocations: 1.312 MiB)\n"
     ]
    }
   ],
   "source": [
    "@time evolve!(node_status, N, evolve_threshold!)"
   ]
  },
  {
   "cell_type": "markdown",
   "metadata": {},
   "source": [
    "The `evolve` function is typically called multiple times in a typical simulation design."
   ]
  },
  {
   "cell_type": "code",
   "execution_count": null,
   "metadata": {
    "collapsed": true
   },
   "outputs": [],
   "source": []
  }
 ],
 "metadata": {
  "kernelspec": {
   "display_name": "Julia 0.6.2",
   "language": "julia",
   "name": "julia-0.6"
  },
  "language_info": {
   "file_extension": ".jl",
   "mimetype": "application/julia",
   "name": "julia",
   "version": "0.6.2"
  }
 },
 "nbformat": 4,
 "nbformat_minor": 2
}
